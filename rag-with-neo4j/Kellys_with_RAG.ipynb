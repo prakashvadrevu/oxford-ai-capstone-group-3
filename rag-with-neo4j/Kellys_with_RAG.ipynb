{
  "cells": [
    {
      "cell_type": "markdown",
      "metadata": {
        "id": "view-in-github"
      },
      "source": [
        "<a href=\"https://colab.research.google.com/github/tomasonjo/blogs/blob/master/llm/enhancing_rag_with_graph.ipynb\" target=\"_parent\"><img src=\"https://colab.research.google.com/assets/colab-badge.svg\" alt=\"Open In Colab\"/></a>"
      ]
    },
    {
      "cell_type": "code",
      "execution_count": 1,
      "metadata": {
        "colab": {
          "base_uri": "https://localhost:8080/"
        },
        "id": "5x3LkpUztHNU",
        "outputId": "dc4ef325-f9f0-4ad1-e7c7-f74afeeb8b66"
      },
      "outputs": [
        {
          "name": "stdout",
          "output_type": "stream",
          "text": [
            "Note: you may need to restart the kernel to use updated packages.\n"
          ]
        }
      ],
      "source": [
        "%pip install --upgrade --quiet  langchain langchain-community langchain-openai langchain-experimental neo4j wikipedia tiktoken yfiles_jupyter_graphs"
      ]
    },
    {
      "cell_type": "code",
      "execution_count": 2,
      "metadata": {
        "id": "jPIRSGz4tHNV"
      },
      "outputs": [],
      "source": [
        "from langchain_core.runnables import (\n",
        "    RunnableBranch,\n",
        "    RunnableLambda,\n",
        "    RunnableParallel,\n",
        "    RunnablePassthrough,\n",
        ")\n",
        "from langchain_core.prompts import ChatPromptTemplate\n",
        "from langchain_core.prompts.prompt import PromptTemplate\n",
        "from langchain_core.pydantic_v1 import BaseModel, Field\n",
        "from typing import Tuple, List, Optional\n",
        "from langchain_core.messages import AIMessage, HumanMessage\n",
        "from langchain_core.output_parsers import StrOutputParser\n",
        "import os\n",
        "from langchain_community.graphs import Neo4jGraph\n",
        "from langchain.document_loaders import WikipediaLoader\n",
        "from langchain.text_splitter import TokenTextSplitter\n",
        "from langchain_openai import ChatOpenAI\n",
        "from langchain_experimental.graph_transformers import LLMGraphTransformer\n",
        "from neo4j import GraphDatabase\n",
        "from yfiles_jupyter_graphs import GraphWidget\n",
        "from langchain_community.vectorstores import Neo4jVector\n",
        "from langchain_openai import OpenAIEmbeddings\n",
        "from langchain_community.vectorstores.neo4j_vector import remove_lucene_chars\n",
        "from langchain_core.runnables import ConfigurableField, RunnableParallel, RunnablePassthrough\n",
        "\n",
        "try:\n",
        "  import google.colab\n",
        "  from google.colab import output\n",
        "  output.enable_custom_widget_manager()\n",
        "except:\n",
        "  pass"
      ]
    },
    {
      "cell_type": "markdown",
      "metadata": {
        "id": "-KeAfaMQ0VKh"
      },
      "source": [
        "# Enhancing RAG-based applications accuracy by constructing and leveraging knowledge graphs\n",
        "## A practical guide to constructing and retrieving information from knowledge graphs in RAG applications with Neo4j and LangChain\n",
        "\n",
        "Graph retrieval augmented generation (Graph RAG) is gaining momentum and emerging as a powerful addition to traditional vector search retrieval methods. This approach leverages the structured nature of graph databases, which organize data as nodes and relationships, to enhance the depth and contextuality of retrieved information.\n",
        "\n",
        "Graphs are great at representing and storing heterogeneous and interconnected information in a structured manner, effortlessly capturing complex relationships and attributes across diverse data types. In contrast, vector databases often struggle with such structured information, as their strength lies in handling unstructured data through high-dimensional vectors. In your RAG application, you can combine structured graph data with vector search through unstructured text to achieve the best of both worlds, which is exactly what we will do in this blog post.\n",
        "\n",
        "Knowledge graphs are great, but how do you create one? Constructing a knowledge graph is typically the most challenging step in leveraging the power of graph-based data representation. It involves gathering and structuring the data, which requires a deep understanding of both the domain and graph modeling. To simplify this process, we have been experimenting with LLMs. LLMs, with their profound understanding of language and context, can automate significant parts of the knowledge graph creation process. By analyzing text data, these models can identify entities, understand the relationships between them, and suggest how they might be best represented in a graph structure. As a result of these experiments, we have added the first version of the graph construction module to LangChain, which we will demonstrate in this blog post.\n",
        "\n",
        "## Neo4j Environment Setup\n",
        "\n",
        "You need to set up a Neo4j instance follow along with the examples in this blog post. The easiest way is to start a free instance on [Neo4j Aura](https://neo4j.com/cloud/platform/aura-graph-database/), which offers cloud instances of Neo4j database. Alternatively, you can also set up a local instance of the Neo4j database by downloading the Neo4j Desktop application and creating a local database instance."
      ]
    },
    {
      "cell_type": "code",
      "execution_count": 3,
      "metadata": {
        "id": "L0nXP1aYtHNW"
      },
      "outputs": [],
      "source": [
        "from google.colab import userdata\n",
        "\n",
        "os.environ[\"OPENAI_API_KEY\"] = userdata.get('OXFORD_OPENAI_API_KEY')\n",
        "os.environ[\"NEO4J_URI\"] = userdata.get('NEO4J_URI')\n",
        "os.environ[\"NEO4J_USERNAME\"] = \"neo4j\"\n",
        "os.environ[\"NEO4J_PASSWORD\"] = userdata.get('NEO4J_PASSWORD')\n",
        "\n",
        "graph = Neo4jGraph()"
      ]
    },
    {
      "cell_type": "markdown",
      "metadata": {
        "id": "WdvdT5HXFIDp"
      },
      "source": [
        "# Parse user's input and read records from Neo4J"
      ]
    },
    {
      "cell_type": "code",
      "execution_count": 4,
      "metadata": {
        "id": "jr8cLtBOD3gt"
      },
      "outputs": [],
      "source": [
        "def print_in_bold(message):\n",
        "  print('\\033[1m' + message + '\\033[0m')"
      ]
    },
    {
      "cell_type": "code",
      "execution_count": 6,
      "metadata": {
        "colab": {
          "base_uri": "https://localhost:8080/",
          "height": 90
        },
        "id": "xvsgN0l5XBY_",
        "outputId": "09632c72-f378-49cd-a42f-301a28108eda"
      },
      "outputs": [
        {
          "data": {
            "text/plain": [
              "'[\\n    {\\n        \"Country\": \"UK\",\\n        \"Product ID\": 13386,\\n        \"Store ID\": 2377,\\n        \"Category\": \"\"\\n    }\\n]'"
            ]
          },
          "execution_count": 6,
          "metadata": {},
          "output_type": "execute_result"
        }
      ],
      "source": [
        "def extract_entities(input):\n",
        "  prompt = PromptTemplate(\n",
        "      template=\n",
        "      \"\"\"\n",
        "        You are a smart Assistant to extract countries, ProductIds, Categories, and Stores entities from the user input: {question} into a Json Array.\n",
        "        For example:\n",
        "        For question: \"Forecast the sales of Product 64318 in UK\",\n",
        "        your response should be: [\"Country\": \"UK\", \"Product ID\": 64318, \"Store ID\": 8036, \"Category\": \"MENS\"]\n",
        "        Ensure that you return a valid and only JSON Response and it should be straightaway parseable by any Json Parser.\n",
        "        Do not write any other text in the response, do not even write json. It should be a plain direct Json\n",
        "      \"\"\",\n",
        "      input_variables=[\"question\"]\n",
        "  )\n",
        "  str = prompt.format(question=input)\n",
        "  llm=ChatOpenAI(temperature=0, model_name=\"gpt-4o\")\n",
        "  return llm.predict(str)\n",
        "\n",
        "extract_entities(\"Forecast the sales of Product 13386 in UK for the store 2377 in July\")"
      ]
    },
    {
      "cell_type": "code",
      "execution_count": 7,
      "metadata": {
        "colab": {
          "base_uri": "https://localhost:8080/"
        },
        "id": "sja9TOmAYUQP",
        "outputId": "a8527af6-3e02-4ffa-9c91-da16251282eb"
      },
      "outputs": [
        {
          "name": "stdout",
          "output_type": "stream",
          "text": [
            "\u001b[1mExtracted entities from user's input:\u001b[0m\n",
            "{'Country': 'UK', 'Store ID': 2377}\n",
            "\u001b[1m\n",
            "Generated Cypher query:\u001b[0m\n",
            "\n",
            "  MATCH (k:Kellys)-[:CONTAINS]->(target)\n",
            "  WHERE k.`Country` = 'UK' AND k.`Store ID` = 2377\n",
            "  RETURN DISTINCT k\n",
            "  \n",
            "\u001b[1m\n",
            "Results from Neo4J:\u001b[0m\n",
            "[{'k': {'Product ID': 64318, 'Inflation Rate': 6.18, 'Units Sold': 4, 'GDP Growth Rate': 5.2, 'Product Category': 'Mens', 'Store ID': 2377, 'Country': 'UK', 'ID': 5, 'Date of Sale': neo4j.time.DateTime(2024, 2, 7, 18, 30, 0, 0, tzinfo=<UTC>), 'Price Sold': 28.7}}, {'k': {'Product ID': 48183, 'Inflation Rate': 5.78, 'Units Sold': 3, 'GDP Growth Rate': 7.26, 'Product Category': 'Mens', 'Store ID': 2377, 'Country': 'UK', 'ID': 328, 'Date of Sale': neo4j.time.DateTime(2024, 1, 11, 18, 30, 0, 0, tzinfo=<UTC>), 'Price Sold': 97.21}}, {'k': {'Product ID': 69246, 'Inflation Rate': -3.39, 'Units Sold': 3, 'GDP Growth Rate': 4.15, 'Product Category': 'Womens', 'Store ID': 2377, 'Country': 'UK', 'ID': 1222, 'Date of Sale': neo4j.time.DateTime(2023, 11, 30, 18, 30, 0, 0, tzinfo=<UTC>), 'Price Sold': 65.44}}, {'k': {'Product ID': 52750, 'Inflation Rate': 8.4, 'Units Sold': 3, 'GDP Growth Rate': -1.26, 'Product Category': 'Mens', 'Store ID': 2377, 'Country': 'UK', 'ID': 1828, 'Date of Sale': neo4j.time.DateTime(2023, 11, 24, 18, 30, 0, 0, tzinfo=<UTC>), 'Price Sold': 54.9}}, {'k': {'Product ID': 15063, 'Inflation Rate': 3.04, 'Units Sold': 3, 'GDP Growth Rate': 8.41, 'Product Category': 'Womens', 'Store ID': 2377, 'Country': 'UK', 'ID': 3910, 'Date of Sale': neo4j.time.DateTime(2024, 1, 9, 18, 30, 0, 0, tzinfo=<UTC>), 'Price Sold': 98.3}}, {'k': {'Product ID': 52113, 'Inflation Rate': 7.13, 'Units Sold': 1, 'GDP Growth Rate': 9.74, 'Product Category': 'Mens', 'Store ID': 2377, 'Country': 'UK', 'ID': 3946, 'Date of Sale': neo4j.time.DateTime(2023, 5, 15, 18, 30, 0, 0, tzinfo=<UTC>), 'Price Sold': 43.12}}, {'k': {'Product ID': 62230, 'Inflation Rate': 7.36, 'Units Sold': 1, 'GDP Growth Rate': -4.08, 'Product Category': 'Womens', 'Store ID': 2377, 'Country': 'UK', 'ID': 4468, 'Date of Sale': neo4j.time.DateTime(2023, 4, 30, 18, 30, 0, 0, tzinfo=<UTC>), 'Price Sold': 48.26}}, {'k': {'Product ID': 44338, 'Inflation Rate': 5.93, 'Units Sold': 7, 'GDP Growth Rate': 2.03, 'Product Category': 'Womens', 'Store ID': 2377, 'Country': 'UK', 'ID': 4874, 'Date of Sale': neo4j.time.DateTime(2023, 11, 29, 18, 30, 0, 0, tzinfo=<UTC>), 'Price Sold': 19.96}}]\n"
          ]
        }
      ],
      "source": [
        "import json\n",
        "\n",
        "def cypher_query(data):\n",
        "  where_clauses = []\n",
        "  for key, value in data.items():\n",
        "      # Handle keys with spaces (e.g., \"Product ID\")\n",
        "      cypher_key = f'`{key}`'\n",
        "      if isinstance(value, type(\"str\")):\n",
        "          clause = f\"k.{cypher_key} = '{value}'\"\n",
        "      else:\n",
        "          clause = f\"k.{cypher_key} = {value}\"\n",
        "      where_clauses.append(clause)\n",
        "\n",
        "  # Join the WHERE clauses with \" AND \"\n",
        "  where_clause = \" AND \".join(where_clauses)\n",
        "\n",
        "  cypher_query = f\"\"\"\n",
        "  MATCH (k:Kellys)-[:CONTAINS]->(target)\n",
        "  WHERE {where_clause}\n",
        "  RETURN DISTINCT k\n",
        "  \"\"\"\n",
        "\n",
        "  # Print the Cypher query\n",
        "  print_in_bold(\"\\nGenerated Cypher query:\")\n",
        "  print(cypher_query)\n",
        "  return cypher_query\n",
        "\n",
        "# Fulltext index query\n",
        "def records_retriever(question: str) -> str:\n",
        "    \"\"\"\n",
        "    MATCH (k:Kellys)-[:CONTAINS]->(target)\n",
        "    WHERE k.`Country` = 'UK'\n",
        "    AND k.`Product ID` = 13386\n",
        "    AND k.`Store ID` = 8036\n",
        "    RETURN DISTINCT k\n",
        "    \"\"\"\n",
        "    result = \"\"\n",
        "    response = extract_entities(question)\n",
        "    try:\n",
        "      data = json.loads(response)[0]\n",
        "    except:\n",
        "      data = response\n",
        "    print_in_bold(\"Extracted entities from user's input:\")\n",
        "    print(data)\n",
        "    query = cypher_query(data)\n",
        "    response = graph.query(query)\n",
        "    return response\n",
        "\n",
        "question = \"Forecast the sales in UK for the store 2377 in July\"\n",
        "result = records_retriever(question)\n",
        "print_in_bold(\"\\nResults from Neo4J:\")\n",
        "print(result)\n"
      ]
    },
    {
      "cell_type": "code",
      "execution_count": 8,
      "metadata": {
        "colab": {
          "base_uri": "https://localhost:8080/",
          "height": 70
        },
        "id": "fa4SXSXQFd5K",
        "outputId": "85dbb1df-bd77-427f-8453-0acfc209a281"
      },
      "outputs": [
        {
          "data": {
            "text/plain": [
              "'Based on the provided historical sales data for Store 2377 in the UK, here is the forecasted sales for July:\\n\\n1. **Total Units Sold**: \\n   - The average units sold per month can be calculated from the given data. \\n   - Summing up the units sold: 4 + 3 + 3 + 3 + 3 + 1 + 1 + 7 = 25 units over 8 records.\\n   - Average units sold per record: 25 / 8 = 3.125 units.\\n   - Assuming similar sales trends, the forecasted units sold for July would be approximately 3.125 units per record.\\n\\n2. **Total Revenue**:\\n   - The average price sold can be calculated from the given data.\\n   - Summing up the prices sold: 28.7 + 97.21 + 65.44 + 54.9 + 98.3 + 43.12 + 48.26 + 19.96 = 455.89.\\n   - Average price sold per record: 455.89 / 8 = 56.98625.\\n   - Forecasted revenue for July: 3.125 units * 56.98625 = 178.08 (approximately).\\n\\nTherefore, the forecasted sales for Store 2377 in the UK for July are approximately:\\n- **Total Units Sold**: 3.125 units\\n- **Total Revenue**: £178.08'"
            ]
          },
          "execution_count": 8,
          "metadata": {},
          "output_type": "execute_result"
        }
      ],
      "source": [
        "def forecast(question, records):\n",
        "  forecast_prompt = PromptTemplate(\n",
        "      template=\n",
        "      \"\"\"\n",
        "        You are a smart 'Business Data Analyst' and your job is to forecast sales based on this user's ask\n",
        "        {question}\n",
        "        The following records are past sales data. Understand and process these to forecast future sales.\n",
        "        {records}\n",
        "\n",
        "        DO NOT GIVE STEPS TO DO FORECASTING. YOU PREDICT AND GIVE US THE FINAL FIGURES\n",
        "      \"\"\",\n",
        "      input_variables=[\"question\", \"records\"]\n",
        "  )\n",
        "\n",
        "  str = forecast_prompt.format(question=question, records=records)\n",
        "  llm=ChatOpenAI(temperature=0, model_name=\"gpt-4o\")\n",
        "  return llm.predict(str)\n",
        "\n",
        "forecast(question, result)"
      ]
    }
  ],
  "metadata": {
    "colab": {
      "collapsed_sections": [
        "GHKExwYntyD9"
      ],
      "provenance": []
    },
    "kernelspec": {
      "display_name": "Python 3 (ipykernel)",
      "language": "python",
      "name": "python3"
    },
    "language_info": {
      "codemirror_mode": {
        "name": "ipython",
        "version": 3
      },
      "file_extension": ".py",
      "mimetype": "text/x-python",
      "name": "python",
      "nbconvert_exporter": "python",
      "pygments_lexer": "ipython3",
      "version": "3.10.13"
    },
    "widgets": {
      "application/vnd.jupyter.widget-state+json": {
        "775a9adbb622434bbfa4f9dcf93af675": {
          "model_module": "@jupyter-widgets/base",
          "model_module_version": "1.2.0",
          "model_name": "LayoutModel",
          "state": {
            "_model_module": "@jupyter-widgets/base",
            "_model_module_version": "1.2.0",
            "_model_name": "LayoutModel",
            "_view_count": null,
            "_view_module": "@jupyter-widgets/base",
            "_view_module_version": "1.2.0",
            "_view_name": "LayoutView",
            "align_content": null,
            "align_items": null,
            "align_self": null,
            "border": null,
            "bottom": null,
            "display": null,
            "flex": null,
            "flex_flow": null,
            "grid_area": null,
            "grid_auto_columns": null,
            "grid_auto_flow": null,
            "grid_auto_rows": null,
            "grid_column": null,
            "grid_gap": null,
            "grid_row": null,
            "grid_template_areas": null,
            "grid_template_columns": null,
            "grid_template_rows": null,
            "height": "770px",
            "justify_content": null,
            "justify_items": null,
            "left": null,
            "margin": null,
            "max_height": null,
            "max_width": null,
            "min_height": null,
            "min_width": null,
            "object_fit": null,
            "object_position": null,
            "order": null,
            "overflow": null,
            "overflow_x": null,
            "overflow_y": null,
            "padding": null,
            "right": null,
            "top": null,
            "visibility": null,
            "width": "100%"
          }
        },
        "91e74a6e55354bcfbdb051e56b9759eb": {
          "model_module": "yfiles-jupyter-graphs",
          "model_module_version": "^1.6.2",
          "model_name": "GraphModel",
          "state": {
            "_context_pane_mapping": [
              {
                "id": "Neighborhood",
                "title": "Neighborhood"
              },
              {
                "id": "Data",
                "title": "Data"
              },
              {
                "id": "Search",
                "title": "Search"
              },
              {
                "id": "About",
                "title": "About"
              }
            ],
            "_data_importer": "neo4j",
            "_directed": true,
            "_dom_classes": [],
            "_edges": [
              {
                "color": "#F44336",
                "directed": true,
                "end": 17027,
                "id": 1152924803141745400,
                "label": "TARGETS",
                "properties": {
                  "label": "TARGETS"
                },
                "start": 15196,
                "thickness_factor": 1
              },
              {
                "color": "#F44336",
                "directed": true,
                "end": 17028,
                "id": 1152924803141745400,
                "label": "TARGETS",
                "properties": {
                  "label": "TARGETS"
                },
                "start": 15197,
                "thickness_factor": 1
              },
              {
                "color": "#F44336",
                "directed": true,
                "end": 17027,
                "id": 1152924803141745400,
                "label": "TARGETS",
                "properties": {
                  "label": "TARGETS"
                },
                "start": 15198,
                "thickness_factor": 1
              },
              {
                "color": "#F44336",
                "directed": true,
                "end": 17028,
                "id": 1152924803141745400,
                "label": "TARGETS",
                "properties": {
                  "label": "TARGETS"
                },
                "start": 15199,
                "thickness_factor": 1
              },
              {
                "color": "#F44336",
                "directed": true,
                "end": 17027,
                "id": 1152924803141745400,
                "label": "TARGETS",
                "properties": {
                  "label": "TARGETS"
                },
                "start": 15200,
                "thickness_factor": 1
              },
              {
                "color": "#F44336",
                "directed": true,
                "end": 17028,
                "id": 1152924803141745400,
                "label": "TARGETS",
                "properties": {
                  "label": "TARGETS"
                },
                "start": 15201,
                "thickness_factor": 1
              },
              {
                "color": "#F44336",
                "directed": true,
                "end": 17027,
                "id": 1152924803141745400,
                "label": "TARGETS",
                "properties": {
                  "label": "TARGETS"
                },
                "start": 15202,
                "thickness_factor": 1
              },
              {
                "color": "#F44336",
                "directed": true,
                "end": 17028,
                "id": 1152924803141745400,
                "label": "TARGETS",
                "properties": {
                  "label": "TARGETS"
                },
                "start": 15203,
                "thickness_factor": 1
              },
              {
                "color": "#F44336",
                "directed": true,
                "end": 17027,
                "id": 1152924803141745400,
                "label": "TARGETS",
                "properties": {
                  "label": "TARGETS"
                },
                "start": 15204,
                "thickness_factor": 1
              },
              {
                "color": "#F44336",
                "directed": true,
                "end": 17028,
                "id": 1152924803141745400,
                "label": "TARGETS",
                "properties": {
                  "label": "TARGETS"
                },
                "start": 15205,
                "thickness_factor": 1
              },
              {
                "color": "#F44336",
                "directed": true,
                "end": 17027,
                "id": 1152924803141745400,
                "label": "TARGETS",
                "properties": {
                  "label": "TARGETS"
                },
                "start": 15206,
                "thickness_factor": 1
              },
              {
                "color": "#F44336",
                "directed": true,
                "end": 17027,
                "id": 1152924803141745400,
                "label": "TARGETS",
                "properties": {
                  "label": "TARGETS"
                },
                "start": 15207,
                "thickness_factor": 1
              },
              {
                "color": "#F44336",
                "directed": true,
                "end": 17028,
                "id": 1152924803141745400,
                "label": "TARGETS",
                "properties": {
                  "label": "TARGETS"
                },
                "start": 15208,
                "thickness_factor": 1
              },
              {
                "color": "#F44336",
                "directed": true,
                "end": 17027,
                "id": 1152924803141745400,
                "label": "TARGETS",
                "properties": {
                  "label": "TARGETS"
                },
                "start": 15209,
                "thickness_factor": 1
              },
              {
                "color": "#F44336",
                "directed": true,
                "end": 17027,
                "id": 1152924803141745400,
                "label": "TARGETS",
                "properties": {
                  "label": "TARGETS"
                },
                "start": 15210,
                "thickness_factor": 1
              },
              {
                "color": "#F44336",
                "directed": true,
                "end": 17027,
                "id": 1152924803141745400,
                "label": "TARGETS",
                "properties": {
                  "label": "TARGETS"
                },
                "start": 15211,
                "thickness_factor": 1
              },
              {
                "color": "#F44336",
                "directed": true,
                "end": 17028,
                "id": 1152924803141745400,
                "label": "TARGETS",
                "properties": {
                  "label": "TARGETS"
                },
                "start": 15212,
                "thickness_factor": 1
              },
              {
                "color": "#F44336",
                "directed": true,
                "end": 17027,
                "id": 1152924803141745400,
                "label": "TARGETS",
                "properties": {
                  "label": "TARGETS"
                },
                "start": 15213,
                "thickness_factor": 1
              },
              {
                "color": "#F44336",
                "directed": true,
                "end": 17028,
                "id": 1152924803141745400,
                "label": "TARGETS",
                "properties": {
                  "label": "TARGETS"
                },
                "start": 15214,
                "thickness_factor": 1
              },
              {
                "color": "#F44336",
                "directed": true,
                "end": 17027,
                "id": 1152924803141745400,
                "label": "TARGETS",
                "properties": {
                  "label": "TARGETS"
                },
                "start": 15215,
                "thickness_factor": 1
              },
              {
                "color": "#F44336",
                "directed": true,
                "end": 17027,
                "id": 1152924803141745400,
                "label": "TARGETS",
                "properties": {
                  "label": "TARGETS"
                },
                "start": 15216,
                "thickness_factor": 1
              },
              {
                "color": "#F44336",
                "directed": true,
                "end": 17028,
                "id": 1152924803141745400,
                "label": "TARGETS",
                "properties": {
                  "label": "TARGETS"
                },
                "start": 15217,
                "thickness_factor": 1
              },
              {
                "color": "#F44336",
                "directed": true,
                "end": 17028,
                "id": 1152924803141745400,
                "label": "TARGETS",
                "properties": {
                  "label": "TARGETS"
                },
                "start": 15218,
                "thickness_factor": 1
              },
              {
                "color": "#F44336",
                "directed": true,
                "end": 17027,
                "id": 1152924803141745400,
                "label": "TARGETS",
                "properties": {
                  "label": "TARGETS"
                },
                "start": 15219,
                "thickness_factor": 1
              },
              {
                "color": "#F44336",
                "directed": true,
                "end": 17027,
                "id": 1152924803141745400,
                "label": "TARGETS",
                "properties": {
                  "label": "TARGETS"
                },
                "start": 15220,
                "thickness_factor": 1
              }
            ],
            "_graph_layout": {},
            "_highlight": [],
            "_license": {},
            "_model_module": "yfiles-jupyter-graphs",
            "_model_module_version": "^1.6.2",
            "_model_name": "GraphModel",
            "_neighborhood": {},
            "_nodes": [
              {
                "color": "#2196F3",
                "id": 15196,
                "position": [
                  0,
                  0
                ],
                "properties": {
                  "Product Category": "Mens",
                  "Product ID": "18702",
                  "label": "Product"
                },
                "scale_factor": 1,
                "size": [
                  55,
                  55
                ],
                "styles": {},
                "type": "#2196F3"
              },
              {
                "color": "#4CAF50",
                "id": 17027,
                "position": [
                  0,
                  0
                ],
                "properties": {
                  "Category": "Mens",
                  "label": "Category"
                },
                "scale_factor": 1,
                "size": [
                  55,
                  55
                ],
                "styles": {},
                "type": "#4CAF50"
              },
              {
                "color": "#2196F3",
                "id": 15197,
                "position": [
                  0,
                  0
                ],
                "properties": {
                  "Product Category": "Womens",
                  "Product ID": "45156",
                  "label": "Product"
                },
                "scale_factor": 1,
                "size": [
                  55,
                  55
                ],
                "styles": {},
                "type": "#2196F3"
              },
              {
                "color": "#4CAF50",
                "id": 17028,
                "position": [
                  0,
                  0
                ],
                "properties": {
                  "Category": "Womens",
                  "label": "Category"
                },
                "scale_factor": 1,
                "size": [
                  55,
                  55
                ],
                "styles": {},
                "type": "#4CAF50"
              },
              {
                "color": "#2196F3",
                "id": 15198,
                "position": [
                  0,
                  0
                ],
                "properties": {
                  "Product Category": "Mens",
                  "Product ID": "87467",
                  "label": "Product"
                },
                "scale_factor": 1,
                "size": [
                  55,
                  55
                ],
                "styles": {},
                "type": "#2196F3"
              },
              {
                "color": "#2196F3",
                "id": 15199,
                "position": [
                  0,
                  0
                ],
                "properties": {
                  "Product Category": "Womens",
                  "Product ID": "90575",
                  "label": "Product"
                },
                "scale_factor": 1,
                "size": [
                  55,
                  55
                ],
                "styles": {},
                "type": "#2196F3"
              },
              {
                "color": "#2196F3",
                "id": 15200,
                "position": [
                  0,
                  0
                ],
                "properties": {
                  "Product Category": "Mens",
                  "Product ID": "64318",
                  "label": "Product"
                },
                "scale_factor": 1,
                "size": [
                  55,
                  55
                ],
                "styles": {},
                "type": "#2196F3"
              },
              {
                "color": "#2196F3",
                "id": 15201,
                "position": [
                  0,
                  0
                ],
                "properties": {
                  "Product Category": "Womens",
                  "Product ID": "63577",
                  "label": "Product"
                },
                "scale_factor": 1,
                "size": [
                  55,
                  55
                ],
                "styles": {},
                "type": "#2196F3"
              },
              {
                "color": "#2196F3",
                "id": 15202,
                "position": [
                  0,
                  0
                ],
                "properties": {
                  "Product Category": "Mens",
                  "Product ID": "17207",
                  "label": "Product"
                },
                "scale_factor": 1,
                "size": [
                  55,
                  55
                ],
                "styles": {},
                "type": "#2196F3"
              },
              {
                "color": "#2196F3",
                "id": 15203,
                "position": [
                  0,
                  0
                ],
                "properties": {
                  "Product Category": "Womens",
                  "Product ID": "92758",
                  "label": "Product"
                },
                "scale_factor": 1,
                "size": [
                  55,
                  55
                ],
                "styles": {},
                "type": "#2196F3"
              },
              {
                "color": "#2196F3",
                "id": 15204,
                "position": [
                  0,
                  0
                ],
                "properties": {
                  "Product Category": "Mens",
                  "Product ID": "11604",
                  "label": "Product"
                },
                "scale_factor": 1,
                "size": [
                  55,
                  55
                ],
                "styles": {},
                "type": "#2196F3"
              },
              {
                "color": "#2196F3",
                "id": 15205,
                "position": [
                  0,
                  0
                ],
                "properties": {
                  "Product Category": "Womens",
                  "Product ID": "85880",
                  "label": "Product"
                },
                "scale_factor": 1,
                "size": [
                  55,
                  55
                ],
                "styles": {},
                "type": "#2196F3"
              },
              {
                "color": "#2196F3",
                "id": 15206,
                "position": [
                  0,
                  0
                ],
                "properties": {
                  "Product Category": "Mens",
                  "Product ID": "64975",
                  "label": "Product"
                },
                "scale_factor": 1,
                "size": [
                  55,
                  55
                ],
                "styles": {},
                "type": "#2196F3"
              },
              {
                "color": "#2196F3",
                "id": 15207,
                "position": [
                  0,
                  0
                ],
                "properties": {
                  "Product Category": "Mens",
                  "Product ID": "21208",
                  "label": "Product"
                },
                "scale_factor": 1,
                "size": [
                  55,
                  55
                ],
                "styles": {},
                "type": "#2196F3"
              },
              {
                "color": "#2196F3",
                "id": 15208,
                "position": [
                  0,
                  0
                ],
                "properties": {
                  "Product Category": "Womens",
                  "Product ID": "49710",
                  "label": "Product"
                },
                "scale_factor": 1,
                "size": [
                  55,
                  55
                ],
                "styles": {},
                "type": "#2196F3"
              },
              {
                "color": "#2196F3",
                "id": 15209,
                "position": [
                  0,
                  0
                ],
                "properties": {
                  "Product Category": "Mens",
                  "Product ID": "62912",
                  "label": "Product"
                },
                "scale_factor": 1,
                "size": [
                  55,
                  55
                ],
                "styles": {},
                "type": "#2196F3"
              },
              {
                "color": "#2196F3",
                "id": 15210,
                "position": [
                  0,
                  0
                ],
                "properties": {
                  "Product Category": "Mens",
                  "Product ID": "99436",
                  "label": "Product"
                },
                "scale_factor": 1,
                "size": [
                  55,
                  55
                ],
                "styles": {},
                "type": "#2196F3"
              },
              {
                "color": "#2196F3",
                "id": 15211,
                "position": [
                  0,
                  0
                ],
                "properties": {
                  "Product Category": "Mens",
                  "Product ID": "33545",
                  "label": "Product"
                },
                "scale_factor": 1,
                "size": [
                  55,
                  55
                ],
                "styles": {},
                "type": "#2196F3"
              },
              {
                "color": "#2196F3",
                "id": 15212,
                "position": [
                  0,
                  0
                ],
                "properties": {
                  "Product Category": "Womens",
                  "Product ID": "66947",
                  "label": "Product"
                },
                "scale_factor": 1,
                "size": [
                  55,
                  55
                ],
                "styles": {},
                "type": "#2196F3"
              },
              {
                "color": "#2196F3",
                "id": 15213,
                "position": [
                  0,
                  0
                ],
                "properties": {
                  "Product Category": "Mens",
                  "Product ID": "26185",
                  "label": "Product"
                },
                "scale_factor": 1,
                "size": [
                  55,
                  55
                ],
                "styles": {},
                "type": "#2196F3"
              },
              {
                "color": "#2196F3",
                "id": 15214,
                "position": [
                  0,
                  0
                ],
                "properties": {
                  "Product Category": "Womens",
                  "Product ID": "95022",
                  "label": "Product"
                },
                "scale_factor": 1,
                "size": [
                  55,
                  55
                ],
                "styles": {},
                "type": "#2196F3"
              },
              {
                "color": "#2196F3",
                "id": 15215,
                "position": [
                  0,
                  0
                ],
                "properties": {
                  "Product Category": "Mens",
                  "Product ID": "70782",
                  "label": "Product"
                },
                "scale_factor": 1,
                "size": [
                  55,
                  55
                ],
                "styles": {},
                "type": "#2196F3"
              },
              {
                "color": "#2196F3",
                "id": 15216,
                "position": [
                  0,
                  0
                ],
                "properties": {
                  "Product Category": "Mens",
                  "Product ID": "87150",
                  "label": "Product"
                },
                "scale_factor": 1,
                "size": [
                  55,
                  55
                ],
                "styles": {},
                "type": "#2196F3"
              },
              {
                "color": "#2196F3",
                "id": 15217,
                "position": [
                  0,
                  0
                ],
                "properties": {
                  "Product Category": "Womens",
                  "Product ID": "33271",
                  "label": "Product"
                },
                "scale_factor": 1,
                "size": [
                  55,
                  55
                ],
                "styles": {},
                "type": "#2196F3"
              },
              {
                "color": "#2196F3",
                "id": 15218,
                "position": [
                  0,
                  0
                ],
                "properties": {
                  "Product Category": "Womens",
                  "Product ID": "58191",
                  "label": "Product"
                },
                "scale_factor": 1,
                "size": [
                  55,
                  55
                ],
                "styles": {},
                "type": "#2196F3"
              },
              {
                "color": "#2196F3",
                "id": 15219,
                "position": [
                  0,
                  0
                ],
                "properties": {
                  "Product Category": "Mens",
                  "Product ID": "94992",
                  "label": "Product"
                },
                "scale_factor": 1,
                "size": [
                  55,
                  55
                ],
                "styles": {},
                "type": "#2196F3"
              },
              {
                "color": "#2196F3",
                "id": 15220,
                "position": [
                  0,
                  0
                ],
                "properties": {
                  "Product Category": "Mens",
                  "Product ID": "49291",
                  "label": "Product"
                },
                "scale_factor": 1,
                "size": [
                  55,
                  55
                ],
                "styles": {},
                "type": "#2196F3"
              }
            ],
            "_overview": {
              "enabled": null,
              "overview_set": false
            },
            "_selected_graph": [
              [],
              []
            ],
            "_sidebar": {
              "enabled": true,
              "start_with": ""
            },
            "_view_count": null,
            "_view_module": "yfiles-jupyter-graphs",
            "_view_module_version": "^1.6.2",
            "_view_name": "GraphView",
            "layout": "IPY_MODEL_775a9adbb622434bbfa4f9dcf93af675"
          }
        }
      }
    }
  },
  "nbformat": 4,
  "nbformat_minor": 0
}
