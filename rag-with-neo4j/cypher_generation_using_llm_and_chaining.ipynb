{
  "cells": [
    {
      "cell_type": "markdown",
      "metadata": {
        "id": "view-in-github"
      },
      "source": [
        "<a href=\"https://colab.research.google.com/github/tomasonjo/blogs/blob/master/llm/enhancing_rag_with_graph.ipynb\" target=\"_parent\"><img src=\"https://colab.research.google.com/assets/colab-badge.svg\" alt=\"Open In Colab\"/></a>"
      ]
    },
    {
      "cell_type": "code",
      "execution_count": 1,
      "metadata": {
        "colab": {
          "base_uri": "https://localhost:8080/"
        },
        "id": "5x3LkpUztHNU",
        "outputId": "1e88a248-46c4-4a19-9c55-1829a7b9008d"
      },
      "outputs": [
        {
          "name": "stdout",
          "output_type": "stream",
          "text": [
            "\u001b[2K     \u001b[90m━━━━━━━━━━━━━━━━━━━━━━━━━━━━━━━━━━━━━━━━\u001b[0m \u001b[32m974.0/974.0 kB\u001b[0m \u001b[31m5.7 MB/s\u001b[0m eta \u001b[36m0:00:00\u001b[0m\n",
            "\u001b[2K     \u001b[90m━━━━━━━━━━━━━━━━━━━━━━━━━━━━━━━━━━━━━━━━\u001b[0m \u001b[32m2.2/2.2 MB\u001b[0m \u001b[31m12.3 MB/s\u001b[0m eta \u001b[36m0:00:00\u001b[0m\n",
            "\u001b[2K     \u001b[90m━━━━━━━━━━━━━━━━━━━━━━━━━━━━━━━━━━━━━━━━\u001b[0m \u001b[32m199.7/199.7 kB\u001b[0m \u001b[31m16.2 MB/s\u001b[0m eta \u001b[36m0:00:00\u001b[0m\n",
            "\u001b[2K     \u001b[90m━━━━━━━━━━━━━━━━━━━━━━━━━━━━━━━━━━━━━━━━\u001b[0m \u001b[32m203.0/203.0 kB\u001b[0m \u001b[31m16.5 MB/s\u001b[0m eta \u001b[36m0:00:00\u001b[0m\n",
            "\u001b[?25h  Installing build dependencies ... \u001b[?25l\u001b[?25hdone\n",
            "  Getting requirements to build wheel ... \u001b[?25l\u001b[?25hdone\n",
            "  Installing backend dependencies ... \u001b[?25l\u001b[?25hdone\n",
            "  Preparing metadata (pyproject.toml) ... \u001b[?25l\u001b[?25hdone\n",
            "  Preparing metadata (setup.py) ... \u001b[?25l\u001b[?25hdone\n",
            "\u001b[2K     \u001b[90m━━━━━━━━━━━━━━━━━━━━━━━━━━━━━━━━━━━━━━━━\u001b[0m \u001b[32m1.1/1.1 MB\u001b[0m \u001b[31m19.2 MB/s\u001b[0m eta \u001b[36m0:00:00\u001b[0m\n",
            "\u001b[2K     \u001b[90m━━━━━━━━━━━━━━━━━━━━━━━━━━━━━━━━━━━━━━━━\u001b[0m \u001b[32m15.5/15.5 MB\u001b[0m \u001b[31m43.7 MB/s\u001b[0m eta \u001b[36m0:00:00\u001b[0m\n",
            "\u001b[2K     \u001b[90m━━━━━━━━━━━━━━━━━━━━━━━━━━━━━━━━━━━━━━━━\u001b[0m \u001b[32m314.7/314.7 kB\u001b[0m \u001b[31m29.5 MB/s\u001b[0m eta \u001b[36m0:00:00\u001b[0m\n",
            "\u001b[2K     \u001b[90m━━━━━━━━━━━━━━━━━━━━━━━━━━━━━━━━━━━━━━━━\u001b[0m \u001b[32m124.9/124.9 kB\u001b[0m \u001b[31m11.9 MB/s\u001b[0m eta \u001b[36m0:00:00\u001b[0m\n",
            "\u001b[2K     \u001b[90m━━━━━━━━━━━━━━━━━━━━━━━━━━━━━━━━━━━━━━━━\u001b[0m \u001b[32m325.5/325.5 kB\u001b[0m \u001b[31m28.8 MB/s\u001b[0m eta \u001b[36m0:00:00\u001b[0m\n",
            "\u001b[2K     \u001b[90m━━━━━━━━━━━━━━━━━━━━━━━━━━━━━━━━━━━━━━━━\u001b[0m \u001b[32m139.4/139.4 kB\u001b[0m \u001b[31m15.0 MB/s\u001b[0m eta \u001b[36m0:00:00\u001b[0m\n",
            "\u001b[2K     \u001b[90m━━━━━━━━━━━━━━━━━━━━━━━━━━━━━━━━━━━━━━━━\u001b[0m \u001b[32m49.2/49.2 kB\u001b[0m \u001b[31m4.9 MB/s\u001b[0m eta \u001b[36m0:00:00\u001b[0m\n",
            "\u001b[2K     \u001b[90m━━━━━━━━━━━━━━━━━━━━━━━━━━━━━━━━━━━━━━━━\u001b[0m \u001b[32m2.3/2.3 MB\u001b[0m \u001b[31m59.7 MB/s\u001b[0m eta \u001b[36m0:00:00\u001b[0m\n",
            "\u001b[2K     \u001b[90m━━━━━━━━━━━━━━━━━━━━━━━━━━━━━━━━━━━━━━━━\u001b[0m \u001b[32m53.0/53.0 kB\u001b[0m \u001b[31m4.6 MB/s\u001b[0m eta \u001b[36m0:00:00\u001b[0m\n",
            "\u001b[2K     \u001b[90m━━━━━━━━━━━━━━━━━━━━━━━━━━━━━━━━━━━━━━━━\u001b[0m \u001b[32m142.7/142.7 kB\u001b[0m \u001b[31m14.5 MB/s\u001b[0m eta \u001b[36m0:00:00\u001b[0m\n",
            "\u001b[2K     \u001b[90m━━━━━━━━━━━━━━━━━━━━━━━━━━━━━━━━━━━━━━━━\u001b[0m \u001b[32m75.6/75.6 kB\u001b[0m \u001b[31m8.0 MB/s\u001b[0m eta \u001b[36m0:00:00\u001b[0m\n",
            "\u001b[2K     \u001b[90m━━━━━━━━━━━━━━━━━━━━━━━━━━━━━━━━━━━━━━━━\u001b[0m \u001b[32m77.9/77.9 kB\u001b[0m \u001b[31m7.6 MB/s\u001b[0m eta \u001b[36m0:00:00\u001b[0m\n",
            "\u001b[2K     \u001b[90m━━━━━━━━━━━━━━━━━━━━━━━━━━━━━━━━━━━━━━━━\u001b[0m \u001b[32m58.3/58.3 kB\u001b[0m \u001b[31m6.7 MB/s\u001b[0m eta \u001b[36m0:00:00\u001b[0m\n",
            "\u001b[2K     \u001b[90m━━━━━━━━━━━━━━━━━━━━━━━━━━━━━━━━━━━━━━━━\u001b[0m \u001b[32m1.6/1.6 MB\u001b[0m \u001b[31m51.1 MB/s\u001b[0m eta \u001b[36m0:00:00\u001b[0m\n",
            "\u001b[?25h  Building wheel for neo4j (pyproject.toml) ... \u001b[?25l\u001b[?25hdone\n",
            "  Building wheel for wikipedia (setup.py) ... \u001b[?25l\u001b[?25hdone\n"
          ]
        }
      ],
      "source": [
        "%pip install --upgrade --quiet  langchain langchain-community langchain-openai langchain-experimental neo4j wikipedia tiktoken yfiles_jupyter_graphs"
      ]
    },
    {
      "cell_type": "code",
      "execution_count": 4,
      "metadata": {
        "id": "L0nXP1aYtHNW"
      },
      "outputs": [],
      "source": [
        "import os\n",
        "try:\n",
        "  from google.colab import userdata\n",
        "except:\n",
        "  pass\n",
        "\n",
        "os.environ[\"OPENAI_API_KEY\"] = userdata.get('OXFORD_OPENAI_API_KEY')\n",
        "os.environ[\"NEO4J_URI\"] = userdata.get('NEO4J_URI')\n",
        "os.environ[\"NEO4J_USERNAME\"] = \"neo4j\"\n",
        "os.environ[\"NEO4J_PASSWORD\"] = userdata.get('NEO4J_PASSWORD')"
      ]
    },
    {
      "cell_type": "code",
      "execution_count": 11,
      "metadata": {
        "colab": {
          "base_uri": "https://localhost:8080/"
        },
        "id": "aj7Nhz3pSEXY",
        "outputId": "6ba11f67-b158-4d21-9319-d0e37ce281e7"
      },
      "outputs": [
        {
          "name": "stderr",
          "output_type": "stream",
          "text": [
            "ERROR:neo4j.io:Failed to write data to connection IPv4Address(('6f42d5f2.databases.neo4j.io', 7687)) (ResolvedIPv4Address(('34.126.64.110', 7687)))\n"
          ]
        },
        {
          "name": "stdout",
          "output_type": "stream",
          "text": [
            "Deleted all the existing records\n",
            "Loaded Kellys dataset to Neo4J\n"
          ]
        }
      ],
      "source": [
        "# pip install --upgrade --quiet  langchain\n",
        "# pip install --upgrade --quiet  langchain-openai\n",
        "\n",
        "from langchain.chains import GraphCypherQAChain\n",
        "from langchain_community.graphs import Neo4jGraph\n",
        "from langchain_openai import ChatOpenAI\n",
        "\n",
        "graph = Neo4jGraph(\n",
        "    url=os.environ[\"NEO4J_URI\"],\n",
        "    username=os.environ[\"NEO4J_USERNAME\"],\n",
        "    password=os.environ[\"NEO4J_PASSWORD\"]\n",
        ")\n",
        "\n",
        "def drop_nodes(graph):\n",
        "  cypher_query = \"MATCH (n) DETACH DELETE n\"\n",
        "  graph.query(cypher_query)\n",
        "  print(\"Deleted all the existing records\")\n",
        "\n",
        "\n",
        "def load_data(graph):\n",
        "  # Load Kellys Dataset\n",
        "  graph.query(\n",
        "  \"\"\"\n",
        "    LOAD CSV WITH HEADERS FROM 'https://docs.google.com/spreadsheets/d/1gxEEnp0NklCS7ywsU-IgM5LAY2X74aVoDH0R4-PdNyI/export?format=csv' AS row\n",
        "    WITH row,\n",
        "      apoc.date.parse(row.`Date of Sale`, 'ms', 'MM/dd/yyyy') AS parsedDate\n",
        "    MERGE (c:Country {name: row.Country})\n",
        "    MERGE (s:Store {id: toInteger(row.`Store ID`)})\n",
        "    ON CREATE SET s.country = row.Country\n",
        "    MERGE (pc:ProductCategory {name: row.`Product Category`})\n",
        "    MERGE (p:Product {id: toInteger(row.`Product ID`)})\n",
        "    ON CREATE SET p.category = row.`Product Category`\n",
        "    MERGE (sale:Sale {id: toInteger(row.ID), unitsSold: toInteger(row.`Units Sold`), date: date(datetime({epochMillis: parsedDate})), price: toFloat(row.`Price Sold`), gdpGrowth: toFloat(row.`GDP Growth Rate`), inflation: toFloat(row.`Inflation Rate`)})\n",
        "    MERGE (s)-[:LOCATED_IN]->(c)\n",
        "    MERGE (s)-[:SOLD]->(sale)\n",
        "    MERGE (sale)-[:OF_PRODUCT]->(p)\n",
        "    MERGE (p)-[:BELONGS_TO]->(pc)\n",
        "  \"\"\"\n",
        "  )\n",
        "  print(\"Loaded Kellys dataset to Neo4J\")\n",
        "\n",
        "drop_nodes(graph)\n",
        "load_data(graph)\n"
      ]
    },
    {
      "cell_type": "code",
      "execution_count": 12,
      "metadata": {
        "colab": {
          "base_uri": "https://localhost:8080/",
          "height": 305
        },
        "id": "8hRSqBXIUHOJ",
        "outputId": "bfeeef22-eadf-4826-863e-45bcc773c96d"
      },
      "outputs": [
        {
          "name": "stderr",
          "output_type": "stream",
          "text": [
            "/usr/local/lib/python3.10/dist-packages/langchain_core/_api/deprecation.py:119: LangChainDeprecationWarning: The method `Chain.run` was deprecated in langchain 0.1.0 and will be removed in 0.3.0. Use invoke instead.\n",
            "  warn_deprecated(\n"
          ]
        },
        {
          "name": "stdout",
          "output_type": "stream",
          "text": [
            "\n",
            "\n",
            "\u001b[1m> Entering new GraphCypherQAChain chain...\u001b[0m\n",
            "Generated Cypher:\n",
            "\u001b[32;1m\u001b[1;3mcypher\n",
            "MATCH (s:Store {id: 8036})-[:SOLD]->(sale:Sale)-[:OF_PRODUCT]->(p:Product)\n",
            "RETURN p\n",
            "\u001b[0m\n",
            "Full Context:\n",
            "\u001b[32;1m\u001b[1;3m[{'p': {'id': 18702, 'category': 'Mens'}}, {'p': {'id': 72532, 'category': 'Mens'}}, {'p': {'id': 39715, 'category': 'Mens'}}, {'p': {'id': 80432, 'category': 'Mens'}}, {'p': {'id': 60050, 'category': 'Mens'}}, {'p': {'id': 80512, 'category': 'Mens'}}, {'p': {'id': 71258, 'category': 'Womens'}}, {'p': {'id': 13386, 'category': 'Womens'}}, {'p': {'id': 65330, 'category': 'Womens'}}, {'p': {'id': 31672, 'category': 'Womens'}}]\u001b[0m\n",
            "\n",
            "\u001b[1m> Finished chain.\u001b[0m\n"
          ]
        },
        {
          "data": {
            "application/vnd.google.colaboratory.intrinsic+json": {
              "type": "string"
            },
            "text/plain": [
              "\"I don't know the answer.\""
            ]
          },
          "execution_count": 12,
          "metadata": {},
          "output_type": "execute_result"
        }
      ],
      "source": [
        "\n",
        "chain = GraphCypherQAChain.from_llm(\n",
        "    ChatOpenAI(model=\"gpt-4o\", temperature=0), graph=graph, verbose=True\n",
        ")\n",
        "\n",
        "chain.run(\"Get all the products sold in store 8036\")"
      ]
    },
    {
      "cell_type": "code",
      "execution_count": 13,
      "metadata": {
        "colab": {
          "base_uri": "https://localhost:8080/"
        },
        "id": "dLZ63aUHVbNN",
        "outputId": "1feeee8d-c8f8-4786-bef1-13094e9c95d2"
      },
      "outputs": [
        {
          "name": "stdout",
          "output_type": "stream",
          "text": [
            "\n",
            "\n",
            "\u001b[1m> Entering new GraphCypherQAChain chain...\u001b[0m\n",
            "Generated Cypher:\n",
            "\u001b[32;1m\u001b[1;3mcypher\n",
            "MATCH (s:Store)-[r1:LOCATED_IN]->(c:Country {name: 'UK'})\n",
            "OPTIONAL MATCH (s)-[r2:SOLD]->(sale:Sale)-[r3:OF_PRODUCT]->(p:Product)-[r4:BELONGS_TO]->(pc:ProductCategory)\n",
            "RETURN s, r1, c, r2, sale, r3, p, r4, pc\n",
            "\u001b[0m\n"
          ]
        },
        {
          "name": "stderr",
          "output_type": "stream",
          "text": [
            "ERROR:neo4j.io:Failed to write data to connection IPv4Address(('6f42d5f2.databases.neo4j.io', 7687)) (ResolvedIPv4Address(('34.126.64.110', 7687)))\n"
          ]
        },
        {
          "name": "stdout",
          "output_type": "stream",
          "text": [
            "Full Context:\n",
            "\u001b[32;1m\u001b[1;3m[{'s': {'country': 'Spain', 'id': 8036}, 'r1': ({'country': 'Spain', 'id': 8036}, 'LOCATED_IN', {'name': 'UK'}), 'c': {'name': 'UK'}, 'r2': ({'country': 'Spain', 'id': 8036}, 'SOLD', {'date': neo4j.time.Date(2024, 1, 24), 'gdpGrowth': 7.07, 'price': 50.1, 'unitsSold': 2, 'id': 1, 'inflation': 0.17}), 'sale': {'date': neo4j.time.Date(2024, 1, 24), 'gdpGrowth': 7.07, 'price': 50.1, 'unitsSold': 2, 'id': 1, 'inflation': 0.17}, 'r3': ({'date': neo4j.time.Date(2024, 1, 24), 'gdpGrowth': 7.07, 'price': 50.1, 'unitsSold': 2, 'id': 1, 'inflation': 0.17}, 'OF_PRODUCT', {'id': 18702, 'category': 'Mens'}), 'p': {'id': 18702, 'category': 'Mens'}, 'r4': ({'id': 18702, 'category': 'Mens'}, 'BELONGS_TO', {'name': 'Mens'}), 'pc': {'name': 'Mens'}}, {'s': {'country': 'Spain', 'id': 8036}, 'r1': ({'country': 'Spain', 'id': 8036}, 'LOCATED_IN', {'name': 'UK'}), 'c': {'name': 'UK'}, 'r2': ({'country': 'Spain', 'id': 8036}, 'SOLD', {'date': neo4j.time.Date(2023, 11, 12), 'gdpGrowth': 6.58, 'price': 94.49, 'unitsSold': 5, 'id': 173, 'inflation': 0.49}), 'sale': {'date': neo4j.time.Date(2023, 11, 12), 'gdpGrowth': 6.58, 'price': 94.49, 'unitsSold': 5, 'id': 173, 'inflation': 0.49}, 'r3': ({'date': neo4j.time.Date(2023, 11, 12), 'gdpGrowth': 6.58, 'price': 94.49, 'unitsSold': 5, 'id': 173, 'inflation': 0.49}, 'OF_PRODUCT', {'id': 72532, 'category': 'Mens'}), 'p': {'id': 72532, 'category': 'Mens'}, 'r4': ({'id': 72532, 'category': 'Mens'}, 'BELONGS_TO', {'name': 'Mens'}), 'pc': {'name': 'Mens'}}, {'s': {'country': 'Spain', 'id': 8036}, 'r1': ({'country': 'Spain', 'id': 8036}, 'LOCATED_IN', {'name': 'UK'}), 'c': {'name': 'UK'}, 'r2': ({'country': 'Spain', 'id': 8036}, 'SOLD', {'date': neo4j.time.Date(2023, 9, 8), 'gdpGrowth': 1.5, 'price': 63.06, 'unitsSold': 6, 'id': 402, 'inflation': -2.31}), 'sale': {'date': neo4j.time.Date(2023, 9, 8), 'gdpGrowth': 1.5, 'price': 63.06, 'unitsSold': 6, 'id': 402, 'inflation': -2.31}, 'r3': ({'date': neo4j.time.Date(2023, 9, 8), 'gdpGrowth': 1.5, 'price': 63.06, 'unitsSold': 6, 'id': 402, 'inflation': -2.31}, 'OF_PRODUCT', {'id': 39715, 'category': 'Mens'}), 'p': {'id': 39715, 'category': 'Mens'}, 'r4': ({'id': 39715, 'category': 'Mens'}, 'BELONGS_TO', {'name': 'Mens'}), 'pc': {'name': 'Mens'}}, {'s': {'country': 'Spain', 'id': 8036}, 'r1': ({'country': 'Spain', 'id': 8036}, 'LOCATED_IN', {'name': 'UK'}), 'c': {'name': 'UK'}, 'r2': ({'country': 'Spain', 'id': 8036}, 'SOLD', {'date': neo4j.time.Date(2023, 3, 30), 'gdpGrowth': 0.55, 'price': 18.71, 'unitsSold': 6, 'id': 629, 'inflation': 1.57}), 'sale': {'date': neo4j.time.Date(2023, 3, 30), 'gdpGrowth': 0.55, 'price': 18.71, 'unitsSold': 6, 'id': 629, 'inflation': 1.57}, 'r3': ({'date': neo4j.time.Date(2023, 3, 30), 'gdpGrowth': 0.55, 'price': 18.71, 'unitsSold': 6, 'id': 629, 'inflation': 1.57}, 'OF_PRODUCT', {'id': 80432, 'category': 'Mens'}), 'p': {'id': 80432, 'category': 'Mens'}, 'r4': ({'id': 80432, 'category': 'Mens'}, 'BELONGS_TO', {'name': 'Mens'}), 'pc': {'name': 'Mens'}}, {'s': {'country': 'Spain', 'id': 8036}, 'r1': ({'country': 'Spain', 'id': 8036}, 'LOCATED_IN', {'name': 'UK'}), 'c': {'name': 'UK'}, 'r2': ({'country': 'Spain', 'id': 8036}, 'SOLD', {'date': neo4j.time.Date(2024, 1, 31), 'gdpGrowth': 8.73, 'price': 34.16, 'unitsSold': 8, 'id': 1008, 'inflation': 5.08}), 'sale': {'date': neo4j.time.Date(2024, 1, 31), 'gdpGrowth': 8.73, 'price': 34.16, 'unitsSold': 8, 'id': 1008, 'inflation': 5.08}, 'r3': ({'date': neo4j.time.Date(2024, 1, 31), 'gdpGrowth': 8.73, 'price': 34.16, 'unitsSold': 8, 'id': 1008, 'inflation': 5.08}, 'OF_PRODUCT', {'id': 60050, 'category': 'Mens'}), 'p': {'id': 60050, 'category': 'Mens'}, 'r4': ({'id': 60050, 'category': 'Mens'}, 'BELONGS_TO', {'name': 'Mens'}), 'pc': {'name': 'Mens'}}, {'s': {'country': 'Spain', 'id': 8036}, 'r1': ({'country': 'Spain', 'id': 8036}, 'LOCATED_IN', {'name': 'UK'}), 'c': {'name': 'UK'}, 'r2': ({'country': 'Spain', 'id': 8036}, 'SOLD', {'date': neo4j.time.Date(2023, 3, 18), 'gdpGrowth': 8.89, 'price': 58.25, 'unitsSold': 10, 'id': 1147, 'inflation': 9.3}), 'sale': {'date': neo4j.time.Date(2023, 3, 18), 'gdpGrowth': 8.89, 'price': 58.25, 'unitsSold': 10, 'id': 1147, 'inflation': 9.3}, 'r3': ({'date': neo4j.time.Date(2023, 3, 18), 'gdpGrowth': 8.89, 'price': 58.25, 'unitsSold': 10, 'id': 1147, 'inflation': 9.3}, 'OF_PRODUCT', {'id': 80512, 'category': 'Mens'}), 'p': {'id': 80512, 'category': 'Mens'}, 'r4': ({'id': 80512, 'category': 'Mens'}, 'BELONGS_TO', {'name': 'Mens'}), 'pc': {'name': 'Mens'}}, {'s': {'country': 'Spain', 'id': 8036}, 'r1': ({'country': 'Spain', 'id': 8036}, 'LOCATED_IN', {'name': 'UK'}), 'c': {'name': 'UK'}, 'r2': ({'country': 'Spain', 'id': 8036}, 'SOLD', {'date': neo4j.time.Date(2023, 6, 20), 'gdpGrowth': -0.13, 'price': 23.53, 'unitsSold': 3, 'id': 1193, 'inflation': -2.19}), 'sale': {'date': neo4j.time.Date(2023, 6, 20), 'gdpGrowth': -0.13, 'price': 23.53, 'unitsSold': 3, 'id': 1193, 'inflation': -2.19}, 'r3': ({'date': neo4j.time.Date(2023, 6, 20), 'gdpGrowth': -0.13, 'price': 23.53, 'unitsSold': 3, 'id': 1193, 'inflation': -2.19}, 'OF_PRODUCT', {'id': 71258, 'category': 'Womens'}), 'p': {'id': 71258, 'category': 'Womens'}, 'r4': ({'id': 71258, 'category': 'Womens'}, 'BELONGS_TO', {'name': 'Womens'}), 'pc': {'name': 'Womens'}}, {'s': {'country': 'Spain', 'id': 8036}, 'r1': ({'country': 'Spain', 'id': 8036}, 'LOCATED_IN', {'name': 'UK'}), 'c': {'name': 'UK'}, 'r2': ({'country': 'Spain', 'id': 8036}, 'SOLD', {'date': neo4j.time.Date(2023, 4, 20), 'gdpGrowth': -2.58, 'price': 80.44, 'unitsSold': 10, 'id': 1659, 'inflation': 5.14}), 'sale': {'date': neo4j.time.Date(2023, 4, 20), 'gdpGrowth': -2.58, 'price': 80.44, 'unitsSold': 10, 'id': 1659, 'inflation': 5.14}, 'r3': ({'date': neo4j.time.Date(2023, 4, 20), 'gdpGrowth': -2.58, 'price': 80.44, 'unitsSold': 10, 'id': 1659, 'inflation': 5.14}, 'OF_PRODUCT', {'id': 13386, 'category': 'Womens'}), 'p': {'id': 13386, 'category': 'Womens'}, 'r4': ({'id': 13386, 'category': 'Womens'}, 'BELONGS_TO', {'name': 'Womens'}), 'pc': {'name': 'Womens'}}, {'s': {'country': 'Spain', 'id': 8036}, 'r1': ({'country': 'Spain', 'id': 8036}, 'LOCATED_IN', {'name': 'UK'}), 'c': {'name': 'UK'}, 'r2': ({'country': 'Spain', 'id': 8036}, 'SOLD', {'date': neo4j.time.Date(2023, 12, 5), 'gdpGrowth': 3.11, 'price': 90.28, 'unitsSold': 9, 'id': 2112, 'inflation': 0.96}), 'sale': {'date': neo4j.time.Date(2023, 12, 5), 'gdpGrowth': 3.11, 'price': 90.28, 'unitsSold': 9, 'id': 2112, 'inflation': 0.96}, 'r3': ({'date': neo4j.time.Date(2023, 12, 5), 'gdpGrowth': 3.11, 'price': 90.28, 'unitsSold': 9, 'id': 2112, 'inflation': 0.96}, 'OF_PRODUCT', {'id': 65330, 'category': 'Womens'}), 'p': {'id': 65330, 'category': 'Womens'}, 'r4': ({'id': 65330, 'category': 'Womens'}, 'BELONGS_TO', {'name': 'Womens'}), 'pc': {'name': 'Womens'}}, {'s': {'country': 'Spain', 'id': 8036}, 'r1': ({'country': 'Spain', 'id': 8036}, 'LOCATED_IN', {'name': 'UK'}), 'c': {'name': 'UK'}, 'r2': ({'country': 'Spain', 'id': 8036}, 'SOLD', {'date': neo4j.time.Date(2024, 1, 12), 'gdpGrowth': -4.81, 'price': 47.66, 'unitsSold': 7, 'id': 2122, 'inflation': -4.43}), 'sale': {'date': neo4j.time.Date(2024, 1, 12), 'gdpGrowth': -4.81, 'price': 47.66, 'unitsSold': 7, 'id': 2122, 'inflation': -4.43}, 'r3': ({'date': neo4j.time.Date(2024, 1, 12), 'gdpGrowth': -4.81, 'price': 47.66, 'unitsSold': 7, 'id': 2122, 'inflation': -4.43}, 'OF_PRODUCT', {'id': 31672, 'category': 'Womens'}), 'p': {'id': 31672, 'category': 'Womens'}, 'r4': ({'id': 31672, 'category': 'Womens'}, 'BELONGS_TO', {'name': 'Womens'}), 'pc': {'name': 'Womens'}}]\u001b[0m\n",
            "\n",
            "\u001b[1m> Finished chain.\u001b[0m\n",
            "The store in the UK country is located in Spain with the following relations:\n",
            "\n",
            "1. Sold on 2024-01-24: Product ID 18702, Category Mens, Price 50.1, Units Sold 2, GDP Growth 7.07, Inflation 0.17\n",
            "2. Sold on 2023-11-12: Product ID 72532, Category Mens, Price 94.49, Units Sold 5, GDP Growth 6.58, Inflation 0.49\n",
            "3. Sold on 2023-09-08: Product ID 39715, Category Mens, Price 63.06, Units Sold 6, GDP Growth 1.5, Inflation -2.31\n",
            "4. Sold on 2023-03-30: Product ID 80432, Category Mens, Price 18.71, Units Sold 6, GDP Growth 0.55, Inflation 1.57\n",
            "5. Sold on 2024-01-31: Product ID 60050, Category Mens, Price 34.16, Units Sold 8, GDP Growth 8.73, Inflation 5.08\n",
            "6. Sold on 2023-03-18: Product ID 80512, Category Mens, Price 58.25, Units Sold 10, GDP Growth 8.89, Inflation 9.3\n",
            "7. Sold on 2023-06-20: Product ID 71258, Category Womens, Price 23.53, Units Sold 3, GDP Growth -0.13, Inflation -2.19\n",
            "8. Sold on 2023-04-20: Product ID 13386, Category Womens, Price 80.44, Units Sold 10, GDP Growth -2.58, Inflation 5.14\n",
            "9. Sold on 2023-12-05: Product ID 65330, Category Womens, Price 90.28, Units Sold 9, GDP Growth 3.11, Inflation 0.96\n",
            "10. Sold on 2024-01-12: Product ID 31672, Category Womens, Price 47.66, Units Sold 7, GDP Growth -4.81, Inflation -4.43\n"
          ]
        }
      ],
      "source": [
        "output = chain.run(\"Get all the stores in UK country with relations in the result\")\n",
        "print(output)"
      ]
    },
    {
      "cell_type": "code",
      "execution_count": null,
      "metadata": {
        "colab": {
          "base_uri": "https://localhost:8080/",
          "height": 285
        },
        "id": "KVwDoN3QVf46",
        "outputId": "0893f8d4-c394-487b-cc4e-caeed0614ca8"
      },
      "outputs": [
        {
          "name": "stdout",
          "output_type": "stream",
          "text": [
            "\n",
            "\n",
            "\u001b[1m> Entering new GraphCypherQAChain chain...\u001b[0m\n",
            "Generated Cypher:\n",
            "\u001b[32;1m\u001b[1;3mcypher\n",
            "MATCH (s:Store)-[:LOCATED_IN]->(c:Country {name: 'UK'})-[:SOLD]->(sale:Sale)\n",
            "RETURN sale.unitsSold\n",
            "ORDER BY sale.unitsSold DESC\n",
            "LIMIT 1\n",
            "\u001b[0m\n",
            "Full Context:\n",
            "\u001b[32;1m\u001b[1;3m[]\u001b[0m\n",
            "\n",
            "\u001b[1m> Finished chain.\u001b[0m\n"
          ]
        },
        {
          "data": {
            "application/vnd.google.colaboratory.intrinsic+json": {
              "type": "string"
            },
            "text/plain": [
              "\"I don't know the answer.\""
            ]
          },
          "execution_count": 44,
          "metadata": {},
          "output_type": "execute_result"
        }
      ],
      "source": [
        "chain.run(\"Get me the top highest number of units sold in UK country\")"
      ]
    }
  ],
  "metadata": {
    "colab": {
      "provenance": []
    },
    "kernelspec": {
      "display_name": "Python 3 (ipykernel)",
      "language": "python",
      "name": "python3"
    },
    "language_info": {
      "codemirror_mode": {
        "name": "ipython",
        "version": 3
      },
      "file_extension": ".py",
      "mimetype": "text/x-python",
      "name": "python",
      "nbconvert_exporter": "python",
      "pygments_lexer": "ipython3",
      "version": "3.11.5"
    },
    "widgets": {
      "application/vnd.jupyter.widget-state+json": {
        "a7787eebd9954b8bba992db96b632af9": {
          "model_module": "yfiles-jupyter-graphs",
          "model_module_version": "^1.7.1",
          "model_name": "GraphModel",
          "state": {
            "_context_pane_mapping": [
              {
                "id": "Neighborhood",
                "title": "Neighborhood"
              },
              {
                "id": "Data",
                "title": "Data"
              },
              {
                "id": "Search",
                "title": "Search"
              },
              {
                "id": "About",
                "title": "About"
              }
            ],
            "_data_importer": "neo4j",
            "_directed": true,
            "_dom_classes": [],
            "_edges": [
              {
                "color": "#673AB7",
                "directed": true,
                "end": 15196,
                "id": 1152922604118492000,
                "label": "CONTAINS",
                "properties": {
                  "label": "CONTAINS"
                },
                "start": 17234,
                "thickness_factor": 1
              },
              {
                "color": "#673AB7",
                "directed": true,
                "end": 17029,
                "id": 1157426203745862400,
                "label": "CONTAINS",
                "properties": {
                  "label": "CONTAINS"
                },
                "start": 17234,
                "thickness_factor": 1
              },
              {
                "color": "#673AB7",
                "directed": true,
                "end": 17034,
                "id": 1155174403932177200,
                "label": "CONTAINS",
                "properties": {
                  "label": "CONTAINS"
                },
                "start": 17234,
                "thickness_factor": 1
              },
              {
                "color": "#673AB7",
                "directed": true,
                "end": 15197,
                "id": 1152922604118492000,
                "label": "CONTAINS",
                "properties": {
                  "label": "CONTAINS"
                },
                "start": 17235,
                "thickness_factor": 1
              },
              {
                "color": "#673AB7",
                "directed": true,
                "end": 17029,
                "id": 1157426203745862400,
                "label": "CONTAINS",
                "properties": {
                  "label": "CONTAINS"
                },
                "start": 17235,
                "thickness_factor": 1
              },
              {
                "color": "#673AB7",
                "directed": true,
                "end": 17035,
                "id": 1155174403932177200,
                "label": "CONTAINS",
                "properties": {
                  "label": "CONTAINS"
                },
                "start": 17235,
                "thickness_factor": 1
              },
              {
                "color": "#673AB7",
                "directed": true,
                "end": 15198,
                "id": 1152922604118492000,
                "label": "CONTAINS",
                "properties": {
                  "label": "CONTAINS"
                },
                "start": 17236,
                "thickness_factor": 1
              },
              {
                "color": "#673AB7",
                "directed": true,
                "end": 17030,
                "id": 1157426203745862400,
                "label": "CONTAINS",
                "properties": {
                  "label": "CONTAINS"
                },
                "start": 17236,
                "thickness_factor": 1
              },
              {
                "color": "#673AB7",
                "directed": true,
                "end": 17036,
                "id": 1155174403932177200,
                "label": "CONTAINS",
                "properties": {
                  "label": "CONTAINS"
                },
                "start": 17236,
                "thickness_factor": 1
              },
              {
                "color": "#673AB7",
                "directed": true,
                "end": 15199,
                "id": 1152922604118492000,
                "label": "CONTAINS",
                "properties": {
                  "label": "CONTAINS"
                },
                "start": 17237,
                "thickness_factor": 1
              },
              {
                "color": "#673AB7",
                "directed": true,
                "end": 17029,
                "id": 1157426203745862400,
                "label": "CONTAINS",
                "properties": {
                  "label": "CONTAINS"
                },
                "start": 17237,
                "thickness_factor": 1
              },
              {
                "color": "#673AB7",
                "directed": true,
                "end": 17037,
                "id": 1155174403932177200,
                "label": "CONTAINS",
                "properties": {
                  "label": "CONTAINS"
                },
                "start": 17237,
                "thickness_factor": 1
              },
              {
                "color": "#673AB7",
                "directed": true,
                "end": 15200,
                "id": 1152922604118492000,
                "label": "CONTAINS",
                "properties": {
                  "label": "CONTAINS"
                },
                "start": 17238,
                "thickness_factor": 1
              },
              {
                "color": "#673AB7",
                "directed": true,
                "end": 17031,
                "id": 1157426203745862400,
                "label": "CONTAINS",
                "properties": {
                  "label": "CONTAINS"
                },
                "start": 17238,
                "thickness_factor": 1
              },
              {
                "color": "#673AB7",
                "directed": true,
                "end": 17038,
                "id": 1155174403932177200,
                "label": "CONTAINS",
                "properties": {
                  "label": "CONTAINS"
                },
                "start": 17238,
                "thickness_factor": 1
              },
              {
                "color": "#673AB7",
                "directed": true,
                "end": 15201,
                "id": 1152922604118492000,
                "label": "CONTAINS",
                "properties": {
                  "label": "CONTAINS"
                },
                "start": 17239,
                "thickness_factor": 1
              },
              {
                "color": "#673AB7",
                "directed": true,
                "end": 17032,
                "id": 1157426203745862400,
                "label": "CONTAINS",
                "properties": {
                  "label": "CONTAINS"
                },
                "start": 17239,
                "thickness_factor": 1
              },
              {
                "color": "#673AB7",
                "directed": true,
                "end": 17039,
                "id": 1155174403932177200,
                "label": "CONTAINS",
                "properties": {
                  "label": "CONTAINS"
                },
                "start": 17239,
                "thickness_factor": 1
              },
              {
                "color": "#673AB7",
                "directed": true,
                "end": 15202,
                "id": 1152922604118492000,
                "label": "CONTAINS",
                "properties": {
                  "label": "CONTAINS"
                },
                "start": 17240,
                "thickness_factor": 1
              },
              {
                "color": "#673AB7",
                "directed": true,
                "end": 17029,
                "id": 1157426203745862400,
                "label": "CONTAINS",
                "properties": {
                  "label": "CONTAINS"
                },
                "start": 17240,
                "thickness_factor": 1
              },
              {
                "color": "#673AB7",
                "directed": true,
                "end": 17040,
                "id": 1155174403932177200,
                "label": "CONTAINS",
                "properties": {
                  "label": "CONTAINS"
                },
                "start": 17240,
                "thickness_factor": 1
              },
              {
                "color": "#673AB7",
                "directed": true,
                "end": 15203,
                "id": 1152922604118492000,
                "label": "CONTAINS",
                "properties": {
                  "label": "CONTAINS"
                },
                "start": 17241,
                "thickness_factor": 1
              },
              {
                "color": "#673AB7",
                "directed": true,
                "end": 17030,
                "id": 1157426203745862400,
                "label": "CONTAINS",
                "properties": {
                  "label": "CONTAINS"
                },
                "start": 17241,
                "thickness_factor": 1
              },
              {
                "color": "#673AB7",
                "directed": true,
                "end": 17041,
                "id": 1155174403932177200,
                "label": "CONTAINS",
                "properties": {
                  "label": "CONTAINS"
                },
                "start": 17241,
                "thickness_factor": 1
              },
              {
                "color": "#673AB7",
                "directed": true,
                "end": 15204,
                "id": 1152922604118492000,
                "label": "CONTAINS",
                "properties": {
                  "label": "CONTAINS"
                },
                "start": 17242,
                "thickness_factor": 1
              }
            ],
            "_graph_layout": {},
            "_highlight": [],
            "_license": {},
            "_model_module": "yfiles-jupyter-graphs",
            "_model_module_version": "^1.7.1",
            "_model_name": "GraphModel",
            "_neighborhood": {},
            "_nodes": [
              {
                "color": "#2196F3",
                "id": 17234,
                "label": "17234",
                "position": [
                  0,
                  0
                ],
                "properties": {
                  "Country": "Spain",
                  "Date of Sale": "2024-01-23T18:30:00.000000",
                  "GDP Growth Rate": 7.07,
                  "ID": 1,
                  "Inflation Rate": 0.17,
                  "Price Sold": 50.1,
                  "Product Category": "Mens",
                  "Product ID": 18702,
                  "Store ID": 8036,
                  "Units Sold": 2,
                  "label": "Kellys"
                },
                "scale_factor": 1,
                "size": [
                  55,
                  55
                ],
                "styles": {},
                "type": "#2196F3"
              },
              {
                "color": "#4CAF50",
                "id": 15196,
                "label": "15196",
                "position": [
                  0,
                  0
                ],
                "properties": {
                  "Product Category": "Mens",
                  "Product ID": "18702",
                  "label": "Product"
                },
                "scale_factor": 1,
                "size": [
                  55,
                  55
                ],
                "styles": {},
                "type": "#4CAF50"
              },
              {
                "color": "#F44336",
                "id": 17029,
                "label": "17029",
                "position": [
                  0,
                  0
                ],
                "properties": {
                  "Country": "Spain",
                  "label": "Country"
                },
                "scale_factor": 1,
                "size": [
                  55,
                  55
                ],
                "styles": {},
                "type": "#F44336"
              },
              {
                "color": "#607D8B",
                "id": 17034,
                "label": "17034",
                "position": [
                  0,
                  0
                ],
                "properties": {
                  "Country": "UK",
                  "StoreId": "8036",
                  "label": "Store"
                },
                "scale_factor": 1,
                "size": [
                  55,
                  55
                ],
                "styles": {},
                "type": "#607D8B"
              },
              {
                "color": "#2196F3",
                "id": 17235,
                "label": "17235",
                "position": [
                  0,
                  0
                ],
                "properties": {
                  "Country": "Spain",
                  "Date of Sale": "2023-11-11T18:30:00.000000",
                  "GDP Growth Rate": 4,
                  "ID": 2,
                  "Inflation Rate": 3.31,
                  "Price Sold": 61.74,
                  "Product Category": "Womens",
                  "Product ID": 45156,
                  "Store ID": 3062,
                  "Units Sold": 9,
                  "label": "Kellys"
                },
                "scale_factor": 1,
                "size": [
                  55,
                  55
                ],
                "styles": {},
                "type": "#2196F3"
              },
              {
                "color": "#4CAF50",
                "id": 15197,
                "label": "15197",
                "position": [
                  0,
                  0
                ],
                "properties": {
                  "Product Category": "Womens",
                  "Product ID": "45156",
                  "label": "Product"
                },
                "scale_factor": 1,
                "size": [
                  55,
                  55
                ],
                "styles": {},
                "type": "#4CAF50"
              },
              {
                "color": "#607D8B",
                "id": 17035,
                "label": "17035",
                "position": [
                  0,
                  0
                ],
                "properties": {
                  "Country": "UK",
                  "StoreId": "3062",
                  "label": "Store"
                },
                "scale_factor": 1,
                "size": [
                  55,
                  55
                ],
                "styles": {},
                "type": "#607D8B"
              },
              {
                "color": "#2196F3",
                "id": 17236,
                "label": "17236",
                "position": [
                  0,
                  0
                ],
                "properties": {
                  "Country": "Germany",
                  "Date of Sale": "2023-09-28T18:30:00.000000",
                  "GDP Growth Rate": 1.13,
                  "ID": 3,
                  "Inflation Rate": -1.32,
                  "Price Sold": 59.62,
                  "Product Category": "Mens",
                  "Product ID": 87467,
                  "Store ID": 2912,
                  "Units Sold": 6,
                  "label": "Kellys"
                },
                "scale_factor": 1,
                "size": [
                  55,
                  55
                ],
                "styles": {},
                "type": "#2196F3"
              },
              {
                "color": "#4CAF50",
                "id": 15198,
                "label": "15198",
                "position": [
                  0,
                  0
                ],
                "properties": {
                  "Product Category": "Mens",
                  "Product ID": "87467",
                  "label": "Product"
                },
                "scale_factor": 1,
                "size": [
                  55,
                  55
                ],
                "styles": {},
                "type": "#4CAF50"
              },
              {
                "color": "#F44336",
                "id": 17030,
                "label": "17030",
                "position": [
                  0,
                  0
                ],
                "properties": {
                  "Country": "Germany",
                  "label": "Country"
                },
                "scale_factor": 1,
                "size": [
                  55,
                  55
                ],
                "styles": {},
                "type": "#F44336"
              },
              {
                "color": "#607D8B",
                "id": 17036,
                "label": "17036",
                "position": [
                  0,
                  0
                ],
                "properties": {
                  "Country": "Spain",
                  "StoreId": "2912",
                  "label": "Store"
                },
                "scale_factor": 1,
                "size": [
                  55,
                  55
                ],
                "styles": {},
                "type": "#607D8B"
              },
              {
                "color": "#2196F3",
                "id": 17237,
                "label": "17237",
                "position": [
                  0,
                  0
                ],
                "properties": {
                  "Country": "Spain",
                  "Date of Sale": "2023-10-16T18:30:00.000000",
                  "GDP Growth Rate": 4.13,
                  "ID": 4,
                  "Inflation Rate": -1.42,
                  "Price Sold": 21.09,
                  "Product Category": "Womens",
                  "Product ID": 90575,
                  "Store ID": 2037,
                  "Units Sold": 6,
                  "label": "Kellys"
                },
                "scale_factor": 1,
                "size": [
                  55,
                  55
                ],
                "styles": {},
                "type": "#2196F3"
              },
              {
                "color": "#4CAF50",
                "id": 15199,
                "label": "15199",
                "position": [
                  0,
                  0
                ],
                "properties": {
                  "Product Category": "Womens",
                  "Product ID": "90575",
                  "label": "Product"
                },
                "scale_factor": 1,
                "size": [
                  55,
                  55
                ],
                "styles": {},
                "type": "#4CAF50"
              },
              {
                "color": "#607D8B",
                "id": 17037,
                "label": "17037",
                "position": [
                  0,
                  0
                ],
                "properties": {
                  "Country": "France",
                  "StoreId": "2037",
                  "label": "Store"
                },
                "scale_factor": 1,
                "size": [
                  55,
                  55
                ],
                "styles": {},
                "type": "#607D8B"
              },
              {
                "color": "#2196F3",
                "id": 17238,
                "label": "17238",
                "position": [
                  0,
                  0
                ],
                "properties": {
                  "Country": "UK",
                  "Date of Sale": "2024-02-07T18:30:00.000000",
                  "GDP Growth Rate": 5.2,
                  "ID": 5,
                  "Inflation Rate": 6.18,
                  "Price Sold": 28.7,
                  "Product Category": "Mens",
                  "Product ID": 64318,
                  "Store ID": 2377,
                  "Units Sold": 4,
                  "label": "Kellys"
                },
                "scale_factor": 1,
                "size": [
                  55,
                  55
                ],
                "styles": {},
                "type": "#2196F3"
              },
              {
                "color": "#4CAF50",
                "id": 15200,
                "label": "15200",
                "position": [
                  0,
                  0
                ],
                "properties": {
                  "Product Category": "Mens",
                  "Product ID": "64318",
                  "label": "Product"
                },
                "scale_factor": 1,
                "size": [
                  55,
                  55
                ],
                "styles": {},
                "type": "#4CAF50"
              },
              {
                "color": "#F44336",
                "id": 17031,
                "label": "17031",
                "position": [
                  0,
                  0
                ],
                "properties": {
                  "Country": "UK",
                  "label": "Country"
                },
                "scale_factor": 1,
                "size": [
                  55,
                  55
                ],
                "styles": {},
                "type": "#F44336"
              },
              {
                "color": "#607D8B",
                "id": 17038,
                "label": "17038",
                "position": [
                  0,
                  0
                ],
                "properties": {
                  "Country": "France",
                  "StoreId": "2377",
                  "label": "Store"
                },
                "scale_factor": 1,
                "size": [
                  55,
                  55
                ],
                "styles": {},
                "type": "#607D8B"
              },
              {
                "color": "#2196F3",
                "id": 17239,
                "label": "17239",
                "position": [
                  0,
                  0
                ],
                "properties": {
                  "Country": "Italy",
                  "Date of Sale": "2023-07-26T18:30:00.000000",
                  "GDP Growth Rate": -1.41,
                  "ID": 6,
                  "Inflation Rate": 5.39,
                  "Price Sold": 27.49,
                  "Product Category": "Womens",
                  "Product ID": 63577,
                  "Store ID": 7423,
                  "Units Sold": 10,
                  "label": "Kellys"
                },
                "scale_factor": 1,
                "size": [
                  55,
                  55
                ],
                "styles": {},
                "type": "#2196F3"
              },
              {
                "color": "#4CAF50",
                "id": 15201,
                "label": "15201",
                "position": [
                  0,
                  0
                ],
                "properties": {
                  "Product Category": "Womens",
                  "Product ID": "63577",
                  "label": "Product"
                },
                "scale_factor": 1,
                "size": [
                  55,
                  55
                ],
                "styles": {},
                "type": "#4CAF50"
              },
              {
                "color": "#F44336",
                "id": 17032,
                "label": "17032",
                "position": [
                  0,
                  0
                ],
                "properties": {
                  "Country": "Italy",
                  "label": "Country"
                },
                "scale_factor": 1,
                "size": [
                  55,
                  55
                ],
                "styles": {},
                "type": "#F44336"
              },
              {
                "color": "#607D8B",
                "id": 17039,
                "label": "17039",
                "position": [
                  0,
                  0
                ],
                "properties": {
                  "Country": "UK",
                  "StoreId": "7423",
                  "label": "Store"
                },
                "scale_factor": 1,
                "size": [
                  55,
                  55
                ],
                "styles": {},
                "type": "#607D8B"
              },
              {
                "color": "#2196F3",
                "id": 17240,
                "label": "17240",
                "position": [
                  0,
                  0
                ],
                "properties": {
                  "Country": "Spain",
                  "Date of Sale": "2023-05-31T18:30:00.000000",
                  "GDP Growth Rate": 1.8,
                  "ID": 7,
                  "Inflation Rate": 8.6,
                  "Price Sold": 19.99,
                  "Product Category": "Mens",
                  "Product ID": 17207,
                  "Store ID": 4091,
                  "Units Sold": 7,
                  "label": "Kellys"
                },
                "scale_factor": 1,
                "size": [
                  55,
                  55
                ],
                "styles": {},
                "type": "#2196F3"
              },
              {
                "color": "#4CAF50",
                "id": 15202,
                "label": "15202",
                "position": [
                  0,
                  0
                ],
                "properties": {
                  "Product Category": "Mens",
                  "Product ID": "17207",
                  "label": "Product"
                },
                "scale_factor": 1,
                "size": [
                  55,
                  55
                ],
                "styles": {},
                "type": "#4CAF50"
              },
              {
                "color": "#607D8B",
                "id": 17040,
                "label": "17040",
                "position": [
                  0,
                  0
                ],
                "properties": {
                  "Country": "Germany",
                  "StoreId": "4091",
                  "label": "Store"
                },
                "scale_factor": 1,
                "size": [
                  55,
                  55
                ],
                "styles": {},
                "type": "#607D8B"
              },
              {
                "color": "#2196F3",
                "id": 17241,
                "label": "17241",
                "position": [
                  0,
                  0
                ],
                "properties": {
                  "Country": "Germany",
                  "Date of Sale": "2024-01-03T18:30:00.000000",
                  "GDP Growth Rate": -3.9,
                  "ID": 8,
                  "Inflation Rate": 8.01,
                  "Price Sold": 84.39,
                  "Product Category": "Womens",
                  "Product ID": 92758,
                  "Store ID": 5275,
                  "Units Sold": 1,
                  "label": "Kellys"
                },
                "scale_factor": 1,
                "size": [
                  55,
                  55
                ],
                "styles": {},
                "type": "#2196F3"
              },
              {
                "color": "#4CAF50",
                "id": 15203,
                "label": "15203",
                "position": [
                  0,
                  0
                ],
                "properties": {
                  "Product Category": "Womens",
                  "Product ID": "92758",
                  "label": "Product"
                },
                "scale_factor": 1,
                "size": [
                  55,
                  55
                ],
                "styles": {},
                "type": "#4CAF50"
              },
              {
                "color": "#607D8B",
                "id": 17041,
                "label": "17041",
                "position": [
                  0,
                  0
                ],
                "properties": {
                  "Country": "France",
                  "StoreId": "5275",
                  "label": "Store"
                },
                "scale_factor": 1,
                "size": [
                  55,
                  55
                ],
                "styles": {},
                "type": "#607D8B"
              },
              {
                "color": "#2196F3",
                "id": 17242,
                "label": "17242",
                "position": [
                  0,
                  0
                ],
                "properties": {
                  "Country": "Germany",
                  "Date of Sale": "2023-05-30T18:30:00.000000",
                  "GDP Growth Rate": -2.72,
                  "ID": 9,
                  "Inflation Rate": -2.18,
                  "Price Sold": 35.51,
                  "Product Category": "Mens",
                  "Product ID": 11604,
                  "Store ID": 8942,
                  "Units Sold": 4,
                  "label": "Kellys"
                },
                "scale_factor": 1,
                "size": [
                  55,
                  55
                ],
                "styles": {},
                "type": "#2196F3"
              },
              {
                "color": "#4CAF50",
                "id": 15204,
                "label": "15204",
                "position": [
                  0,
                  0
                ],
                "properties": {
                  "Product Category": "Mens",
                  "Product ID": "11604",
                  "label": "Product"
                },
                "scale_factor": 1,
                "size": [
                  55,
                  55
                ],
                "styles": {},
                "type": "#4CAF50"
              }
            ],
            "_overview": {
              "enabled": null,
              "overview_set": false
            },
            "_selected_graph": [
              [],
              []
            ],
            "_sidebar": {
              "enabled": true,
              "start_with": ""
            },
            "_view_count": null,
            "_view_module": "yfiles-jupyter-graphs",
            "_view_module_version": "^1.7.1",
            "_view_name": "GraphView",
            "layout": "IPY_MODEL_b5eb1cd4a318471f89daef1635ba62c5",
            "tabbable": null,
            "tooltip": null
          }
        },
        "b5eb1cd4a318471f89daef1635ba62c5": {
          "model_module": "@jupyter-widgets/base",
          "model_module_version": "2.0.0",
          "model_name": "LayoutModel",
          "state": {
            "_model_module": "@jupyter-widgets/base",
            "_model_module_version": "2.0.0",
            "_model_name": "LayoutModel",
            "_view_count": null,
            "_view_module": "@jupyter-widgets/base",
            "_view_module_version": "2.0.0",
            "_view_name": "LayoutView",
            "align_content": null,
            "align_items": null,
            "align_self": null,
            "border_bottom": null,
            "border_left": null,
            "border_right": null,
            "border_top": null,
            "bottom": null,
            "display": null,
            "flex": null,
            "flex_flow": null,
            "grid_area": null,
            "grid_auto_columns": null,
            "grid_auto_flow": null,
            "grid_auto_rows": null,
            "grid_column": null,
            "grid_gap": null,
            "grid_row": null,
            "grid_template_areas": null,
            "grid_template_columns": null,
            "grid_template_rows": null,
            "height": "800px",
            "justify_content": null,
            "justify_items": null,
            "left": null,
            "margin": null,
            "max_height": null,
            "max_width": null,
            "min_height": null,
            "min_width": null,
            "object_fit": null,
            "object_position": null,
            "order": null,
            "overflow": null,
            "padding": null,
            "right": null,
            "top": null,
            "visibility": null,
            "width": "100%"
          }
        }
      }
    }
  },
  "nbformat": 4,
  "nbformat_minor": 0
}
