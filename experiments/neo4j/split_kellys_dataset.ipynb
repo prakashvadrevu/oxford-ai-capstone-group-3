{
  "cells": [
    {
      "cell_type": "markdown",
      "metadata": {},
      "source": [
        "# Info\n",
        "* We currently have a de-normalised dataset of Orders in \"Kelly's Dataset.csv\"\n",
        "* This is difficult to visualize and query for if we load it as is onto Ne04J\n",
        "* So, the following code blocks helps us create normalised datasets (CSVs) which can be linked to the original `Kelly's Dataset` for better results.\n",
        "* **Note** : This file has to be executed in a \"Google Colab Notebook\""
      ]
    },
    {
      "cell_type": "code",
      "execution_count": 2,
      "metadata": {
        "colab": {
          "base_uri": "https://localhost:8080/"
        },
        "id": "xRzwJn0e5A8h",
        "outputId": "67a375a7-384a-4bc3-e77a-277185bf9da1"
      },
      "outputs": [
        {
          "name": "stdout",
          "output_type": "stream",
          "text": [
            "Requirement already satisfied: pandas in /usr/local/lib/python3.10/dist-packages (2.0.3)\n",
            "Requirement already satisfied: python-dateutil>=2.8.2 in /usr/local/lib/python3.10/dist-packages (from pandas) (2.8.2)\n",
            "Requirement already satisfied: pytz>=2020.1 in /usr/local/lib/python3.10/dist-packages (from pandas) (2023.4)\n",
            "Requirement already satisfied: tzdata>=2022.1 in /usr/local/lib/python3.10/dist-packages (from pandas) (2024.1)\n",
            "Requirement already satisfied: numpy>=1.21.0 in /usr/local/lib/python3.10/dist-packages (from pandas) (1.25.2)\n",
            "Requirement already satisfied: six>=1.5 in /usr/local/lib/python3.10/dist-packages (from python-dateutil>=2.8.2->pandas) (1.16.0)\n"
          ]
        }
      ],
      "source": [
        "pip install pandas\n"
      ]
    },
    {
      "cell_type": "code",
      "execution_count": 3,
      "metadata": {
        "colab": {
          "base_uri": "https://localhost:8080/",
          "height": 74
        },
        "id": "HD0CsToR5Jnk",
        "outputId": "511ecb08-e9cf-421f-f758-797ec7b7f17a"
      },
      "outputs": [
        {
          "data": {
            "text/html": [
              "\n",
              "     <input type=\"file\" id=\"files-6ddd9050-7576-4481-a598-e1537a75cb68\" name=\"files[]\" multiple disabled\n",
              "        style=\"border:none\" />\n",
              "     <output id=\"result-6ddd9050-7576-4481-a598-e1537a75cb68\">\n",
              "      Upload widget is only available when the cell has been executed in the\n",
              "      current browser session. Please rerun this cell to enable.\n",
              "      </output>\n",
              "      <script>// Copyright 2017 Google LLC\n",
              "//\n",
              "// Licensed under the Apache License, Version 2.0 (the \"License\");\n",
              "// you may not use this file except in compliance with the License.\n",
              "// You may obtain a copy of the License at\n",
              "//\n",
              "//      http://www.apache.org/licenses/LICENSE-2.0\n",
              "//\n",
              "// Unless required by applicable law or agreed to in writing, software\n",
              "// distributed under the License is distributed on an \"AS IS\" BASIS,\n",
              "// WITHOUT WARRANTIES OR CONDITIONS OF ANY KIND, either express or implied.\n",
              "// See the License for the specific language governing permissions and\n",
              "// limitations under the License.\n",
              "\n",
              "/**\n",
              " * @fileoverview Helpers for google.colab Python module.\n",
              " */\n",
              "(function(scope) {\n",
              "function span(text, styleAttributes = {}) {\n",
              "  const element = document.createElement('span');\n",
              "  element.textContent = text;\n",
              "  for (const key of Object.keys(styleAttributes)) {\n",
              "    element.style[key] = styleAttributes[key];\n",
              "  }\n",
              "  return element;\n",
              "}\n",
              "\n",
              "// Max number of bytes which will be uploaded at a time.\n",
              "const MAX_PAYLOAD_SIZE = 100 * 1024;\n",
              "\n",
              "function _uploadFiles(inputId, outputId) {\n",
              "  const steps = uploadFilesStep(inputId, outputId);\n",
              "  const outputElement = document.getElementById(outputId);\n",
              "  // Cache steps on the outputElement to make it available for the next call\n",
              "  // to uploadFilesContinue from Python.\n",
              "  outputElement.steps = steps;\n",
              "\n",
              "  return _uploadFilesContinue(outputId);\n",
              "}\n",
              "\n",
              "// This is roughly an async generator (not supported in the browser yet),\n",
              "// where there are multiple asynchronous steps and the Python side is going\n",
              "// to poll for completion of each step.\n",
              "// This uses a Promise to block the python side on completion of each step,\n",
              "// then passes the result of the previous step as the input to the next step.\n",
              "function _uploadFilesContinue(outputId) {\n",
              "  const outputElement = document.getElementById(outputId);\n",
              "  const steps = outputElement.steps;\n",
              "\n",
              "  const next = steps.next(outputElement.lastPromiseValue);\n",
              "  return Promise.resolve(next.value.promise).then((value) => {\n",
              "    // Cache the last promise value to make it available to the next\n",
              "    // step of the generator.\n",
              "    outputElement.lastPromiseValue = value;\n",
              "    return next.value.response;\n",
              "  });\n",
              "}\n",
              "\n",
              "/**\n",
              " * Generator function which is called between each async step of the upload\n",
              " * process.\n",
              " * @param {string} inputId Element ID of the input file picker element.\n",
              " * @param {string} outputId Element ID of the output display.\n",
              " * @return {!Iterable<!Object>} Iterable of next steps.\n",
              " */\n",
              "function* uploadFilesStep(inputId, outputId) {\n",
              "  const inputElement = document.getElementById(inputId);\n",
              "  inputElement.disabled = false;\n",
              "\n",
              "  const outputElement = document.getElementById(outputId);\n",
              "  outputElement.innerHTML = '';\n",
              "\n",
              "  const pickedPromise = new Promise((resolve) => {\n",
              "    inputElement.addEventListener('change', (e) => {\n",
              "      resolve(e.target.files);\n",
              "    });\n",
              "  });\n",
              "\n",
              "  const cancel = document.createElement('button');\n",
              "  inputElement.parentElement.appendChild(cancel);\n",
              "  cancel.textContent = 'Cancel upload';\n",
              "  const cancelPromise = new Promise((resolve) => {\n",
              "    cancel.onclick = () => {\n",
              "      resolve(null);\n",
              "    };\n",
              "  });\n",
              "\n",
              "  // Wait for the user to pick the files.\n",
              "  const files = yield {\n",
              "    promise: Promise.race([pickedPromise, cancelPromise]),\n",
              "    response: {\n",
              "      action: 'starting',\n",
              "    }\n",
              "  };\n",
              "\n",
              "  cancel.remove();\n",
              "\n",
              "  // Disable the input element since further picks are not allowed.\n",
              "  inputElement.disabled = true;\n",
              "\n",
              "  if (!files) {\n",
              "    return {\n",
              "      response: {\n",
              "        action: 'complete',\n",
              "      }\n",
              "    };\n",
              "  }\n",
              "\n",
              "  for (const file of files) {\n",
              "    const li = document.createElement('li');\n",
              "    li.append(span(file.name, {fontWeight: 'bold'}));\n",
              "    li.append(span(\n",
              "        `(${file.type || 'n/a'}) - ${file.size} bytes, ` +\n",
              "        `last modified: ${\n",
              "            file.lastModifiedDate ? file.lastModifiedDate.toLocaleDateString() :\n",
              "                                    'n/a'} - `));\n",
              "    const percent = span('0% done');\n",
              "    li.appendChild(percent);\n",
              "\n",
              "    outputElement.appendChild(li);\n",
              "\n",
              "    const fileDataPromise = new Promise((resolve) => {\n",
              "      const reader = new FileReader();\n",
              "      reader.onload = (e) => {\n",
              "        resolve(e.target.result);\n",
              "      };\n",
              "      reader.readAsArrayBuffer(file);\n",
              "    });\n",
              "    // Wait for the data to be ready.\n",
              "    let fileData = yield {\n",
              "      promise: fileDataPromise,\n",
              "      response: {\n",
              "        action: 'continue',\n",
              "      }\n",
              "    };\n",
              "\n",
              "    // Use a chunked sending to avoid message size limits. See b/62115660.\n",
              "    let position = 0;\n",
              "    do {\n",
              "      const length = Math.min(fileData.byteLength - position, MAX_PAYLOAD_SIZE);\n",
              "      const chunk = new Uint8Array(fileData, position, length);\n",
              "      position += length;\n",
              "\n",
              "      const base64 = btoa(String.fromCharCode.apply(null, chunk));\n",
              "      yield {\n",
              "        response: {\n",
              "          action: 'append',\n",
              "          file: file.name,\n",
              "          data: base64,\n",
              "        },\n",
              "      };\n",
              "\n",
              "      let percentDone = fileData.byteLength === 0 ?\n",
              "          100 :\n",
              "          Math.round((position / fileData.byteLength) * 100);\n",
              "      percent.textContent = `${percentDone}% done`;\n",
              "\n",
              "    } while (position < fileData.byteLength);\n",
              "  }\n",
              "\n",
              "  // All done.\n",
              "  yield {\n",
              "    response: {\n",
              "      action: 'complete',\n",
              "    }\n",
              "  };\n",
              "}\n",
              "\n",
              "scope.google = scope.google || {};\n",
              "scope.google.colab = scope.google.colab || {};\n",
              "scope.google.colab._files = {\n",
              "  _uploadFiles,\n",
              "  _uploadFilesContinue,\n",
              "};\n",
              "})(self);\n",
              "</script> "
            ],
            "text/plain": [
              "<IPython.core.display.HTML object>"
            ]
          },
          "metadata": {},
          "output_type": "display_data"
        },
        {
          "name": "stdout",
          "output_type": "stream",
          "text": [
            "Saving Kelly's Dataset.csv to Kelly's Dataset.csv\n"
          ]
        }
      ],
      "source": [
        "from google.colab import files\n",
        "uploaded = files.upload()"
      ]
    },
    {
      "cell_type": "markdown",
      "metadata": {},
      "source": [
        "# Generate Normalised Datasets\n",
        "* After analysing the dataset, figured out that splitting it into the following 4 different CSV files helped\n",
        "  - **products.csv** : All the ProductIDs along with Product Categories\n",
        "  - **stores.csv** : All the StoreIDs along with Countries\n",
        "  - **product_categories.csv** : All the Product Categories (Mens/Womens). A neo4j relation from `products.csv` will be created to this.\n",
        "  - **countries.csv** : All the Countries (Spain/Germany/UK/Italy/France). A neo4j relation from `stores.csv` will be created to this.\n",
        "* `Kelly's Dataset` will be linked to `products` and `stores`\n"
      ]
    },
    {
      "cell_type": "code",
      "execution_count": 11,
      "metadata": {
        "colab": {
          "base_uri": "https://localhost:8080/"
        },
        "id": "hfs7950h5FpP",
        "outputId": "20c286c3-2217-407d-b00b-f57bc60597ba"
      },
      "outputs": [
        {
          "name": "stdout",
          "output_type": "stream",
          "text": [
            "Unique Products:  1831\n",
            "Unique Stores:  995\n",
            "Unique Countries:  5\n",
            "Unique Product Categories:  2\n"
          ]
        }
      ],
      "source": [
        "import pandas as pd\n",
        "\n",
        "# Read the original CSV file\n",
        "df = pd.read_csv(\"Kelly's Dataset.csv\")\n",
        "\n",
        "# Get unique Products with Categories\n",
        "unique_products = df[['Product ID', 'Product Category']].drop_duplicates()\n",
        "print(\"Unique Products: \", unique_products.shape[0])\n",
        "unique_products.to_csv('products.csv', index=False)\n",
        "\n",
        "# Get unique Stores\n",
        "unique_stores = df[['Store ID', 'Country']].drop_duplicates()\n",
        "print(\"Unique Stores: \", unique_stores.shape[0])\n",
        "unique_stores.to_csv('stores.csv', index=False)\n",
        "\n",
        "# Get unique Contries\n",
        "unique_countries = pd.DataFrame({'Country': df['Country'].unique()})\n",
        "print(\"Unique Countries: \", unique_countries.shape[0])\n",
        "unique_countries.to_csv('countries.csv', index=False)\n",
        "\n",
        "# Get unique Product Categories\n",
        "unique_product_categories = pd.DataFrame({'Product Category': df['Product Category'].unique()})\n",
        "print(\"Unique Product Categories: \", unique_product_categories.shape[0])\n",
        "unique_product_categories.to_csv('product_categories.csv', index=False)\n",
        "\n"
      ]
    },
    {
      "cell_type": "markdown",
      "metadata": {},
      "source": [
        "# Import Datasets into Neo4J instance\n",
        "![Neo4J Relations](./images/neo4j-relations.png)\n",
        "\n",
        "* All the generated CSVs are placed in `neo4j/kellys-data-importer` folder.\n",
        "* Zip this folder and import directly into Neo4J instance using **Open Model (with data)** option.\n",
        "* Alternatively, you can upload `neo4j_importer_model.json` individually using **Open Model** option.\n",
        "  - Upload `csv` files using **Browse** option in Files pane\n",
        "\n",
        "![Import Data](./images/import-data.png)"
      ]
    },
    {
      "cell_type": "markdown",
      "metadata": {},
      "source": [
        "# Visualisation\n",
        "If everything goes well, you should be able to see the relations like this in the \"Explore\" tab\n",
        "\n",
        "![Graph](./images/graph-exploration.png)\n",
        "\n",
        "# Sample Queries\n",
        "\n",
        "## Query to sum all the units of a Product\n",
        "```\n",
        "MATCH (store:Kellys)-[:CONTAINS]->(product:Product)\n",
        "WHERE product.`Product ID` = \"18702\"\n",
        "RETURN SUM(store.`Units Sold`) AS totalUnitsSold;\n",
        "```\n",
        "\n",
        "![Sum of all units sold for Product 18702](./images/sum-all-units-of-a-product.png)\n",
        "\n",
        "## Query to get top 10 highest selling Products\n",
        "```\n",
        "MATCH (store:Kellys)-[:CONTAINS]->(product:Product)\n",
        "WITH product.`Product ID` AS productId, SUM(store.`Units Sold`) AS totalUnitsSold\n",
        "RETURN productId, totalUnitsSold\n",
        "ORDER BY totalUnitsSold DESC\n",
        "LIMIT 10;\n",
        "```\n",
        "\n",
        "![Top 10 highest selling products](./images/top-10-highest-selling-products.png)"
      ]
    }
  ],
  "metadata": {
    "colab": {
      "provenance": []
    },
    "kernelspec": {
      "display_name": "Python 3",
      "name": "python3"
    },
    "language_info": {
      "name": "python"
    }
  },
  "nbformat": 4,
  "nbformat_minor": 0
}
