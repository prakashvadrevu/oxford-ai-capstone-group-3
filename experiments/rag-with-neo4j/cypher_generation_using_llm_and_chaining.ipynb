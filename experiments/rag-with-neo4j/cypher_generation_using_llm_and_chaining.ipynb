{
  "cells": [
    {
      "cell_type": "markdown",
      "metadata": {
        "id": "view-in-github"
      },
      "source": [
        "<a href=\"https://colab.research.google.com/github/tomasonjo/blogs/blob/master/llm/enhancing_rag_with_graph.ipynb\" target=\"_parent\"><img src=\"https://colab.research.google.com/assets/colab-badge.svg\" alt=\"Open In Colab\"/></a>"
      ]
    },
    {
      "cell_type": "code",
      "execution_count": 1,
      "metadata": {
        "colab": {
          "base_uri": "https://localhost:8080/"
        },
        "id": "5x3LkpUztHNU",
        "outputId": "1e88a248-46c4-4a19-9c55-1829a7b9008d"
      },
      "outputs": [
        {
          "name": "stdout",
          "output_type": "stream",
          "text": [
            "Note: you may need to restart the kernel to use updated packages.\n"
          ]
        }
      ],
      "source": [
        "%pip install --upgrade --quiet  langchain langchain-community langchain-openai langchain-experimental neo4j wikipedia tiktoken yfiles_jupyter_graphs"
      ]
    },
    {
      "cell_type": "code",
      "execution_count": 2,
      "metadata": {
        "id": "L0nXP1aYtHNW"
      },
      "outputs": [],
      "source": [
        "import os\n",
        "try:\n",
        "  from google.colab import userdata\n",
        "except:\n",
        "  pass\n",
        "\n",
        "os.environ[\"OPENAI_API_KEY\"] = userdata.get('OXFORD_OPENAI_API_KEY')\n",
        "os.environ[\"NEO4J_URI\"] = userdata.get('NEO4J_URI')\n",
        "os.environ[\"NEO4J_USERNAME\"] = \"neo4j\"\n",
        "os.environ[\"NEO4J_PASSWORD\"] = userdata.get('NEO4J_PASSWORD')"
      ]
    },
    {
      "cell_type": "code",
      "execution_count": 11,
      "metadata": {
        "colab": {
          "base_uri": "https://localhost:8080/"
        },
        "id": "aj7Nhz3pSEXY",
        "outputId": "6ba11f67-b158-4d21-9319-d0e37ce281e7"
      },
      "outputs": [
        {
          "name": "stdout",
          "output_type": "stream",
          "text": [
            "Deleted all the existing records\n",
            "Loaded Kellys dataset to Neo4J\n",
            "created schema:\n",
            "Node properties:\n",
            "Country {name: STRING}\n",
            "Store {id: INTEGER, country: STRING}\n",
            "ProductCategory {name: STRING}\n",
            "Product {id: INTEGER, category: STRING}\n",
            "Sale {id: INTEGER, date: DATE, gdpGrowth: FLOAT, price: FLOAT, unitsSold: INTEGER, inflation: FLOAT}\n",
            "Relationship properties:\n",
            "\n",
            "The relationships:\n",
            "(:Store)-[:LOCATED_IN]->(:Country)\n",
            "(:Store)-[:SOLD]->(:Sale)\n",
            "(:Product)-[:BELONGS_TO]->(:ProductCategory)\n",
            "(:Sale)-[:OF_PRODUCT]->(:Product)\n"
          ]
        }
      ],
      "source": [
        "# pip install --upgrade --quiet  langchain\n",
        "# pip install --upgrade --quiet  langchain-openai\n",
        "\n",
        "from langchain.chains import GraphCypherQAChain\n",
        "from langchain_community.graphs import Neo4jGraph\n",
        "from langchain_openai import ChatOpenAI\n",
        "\n",
        "graph = Neo4jGraph(\n",
        "    url=os.environ[\"NEO4J_URI\"],\n",
        "    username=os.environ[\"NEO4J_USERNAME\"],\n",
        "    password=os.environ[\"NEO4J_PASSWORD\"]\n",
        ")\n",
        "\n",
        "def drop_nodes(graph):\n",
        "  cypher_query = \"MATCH (n) DETACH DELETE n\"\n",
        "  graph.query(cypher_query)\n",
        "  print(\"Deleted all the existing records\")\n",
        "\n",
        "\n",
        "def load_data(graph):\n",
        "  # Load Kellys Dataset\n",
        "  graph.query(\n",
        "  \"\"\"\n",
        "    LOAD CSV WITH HEADERS FROM 'https://docs.google.com/spreadsheets/d/1gxEEnp0NklCS7ywsU-IgM5LAY2X74aVoDH0R4-PdNyI/export?format=csv' AS row\n",
        "    WITH row,\n",
        "      apoc.date.parse(row.`Date of Sale`, 'ms', 'MM/dd/yyyy') AS parsedDate\n",
        "    MERGE (c:Country {name: row.Country})\n",
        "    MERGE (s:Store {id: toInteger(row.`Store ID`)})\n",
        "    ON CREATE SET s.country = row.Country\n",
        "    MERGE (pc:ProductCategory {name: row.`Product Category`})\n",
        "    MERGE (p:Product {id: toInteger(row.`Product ID`)})\n",
        "    ON CREATE SET p.category = row.`Product Category`\n",
        "    MERGE (sale:Sale {id: toInteger(row.ID), unitsSold: toInteger(row.`Units Sold`), date: date(datetime({epochMillis: parsedDate})), price: toFloat(row.`Price Sold`), gdpGrowth: toFloat(row.`GDP Growth Rate`), inflation: toFloat(row.`Inflation Rate`)})\n",
        "    MERGE (s)-[:LOCATED_IN]->(c)\n",
        "    MERGE (s)-[:SOLD]->(sale)\n",
        "    MERGE (sale)-[:OF_PRODUCT]->(p)\n",
        "    MERGE (p)-[:BELONGS_TO]->(pc)\n",
        "  \"\"\"\n",
        "  )\n",
        "  print(\"Loaded Kellys dataset to Neo4J\")\n",
        "\n",
        "drop_nodes(graph)\n",
        "load_data(graph)\n",
        "\n",
        "print(\"created schema:\")\n",
        "print(graph.schema)\n"
      ]
    },
    {
      "cell_type": "code",
      "execution_count": 12,
      "metadata": {
        "colab": {
          "base_uri": "https://localhost:8080/",
          "height": 305
        },
        "id": "8hRSqBXIUHOJ",
        "outputId": "bfeeef22-eadf-4826-863e-45bcc773c96d"
      },
      "outputs": [],
      "source": [
        "from langchain.chains.base import Chain\n",
        "from langchain.chains import GraphCypherQAChain\n",
        "from langchain.llms.base import LLM\n",
        "from langchain_community.graphs.graph_store import GraphStore\n",
        "from langchain.chains.llm import LLMChain\n",
        "\n",
        "from langchain_core.callbacks import CallbackManagerForChainRun\n",
        "\n",
        "from typing import Any, Dict, Optional\n",
        "\n",
        "class CustomGraphCypherQAChain(GraphCypherQAChain):\n",
        "    \"\"\"Customized version of GraphCypherQAChain with overridden _call method.\"\"\"\n",
        "\n",
        "    def _call(\n",
        "        self,\n",
        "        inputs: Dict[str, Any],\n",
        "        run_manager: Optional[CallbackManagerForChainRun] = None,\n",
        "    ) -> Dict[str, Any]:\n",
        "        response = super()._call(inputs, run_manager)\n",
        "\n",
        "        self.log(run_manager, \"Db response\\n\" + str(response))\n",
        "\n",
        "        context = f\"\"\"\n",
        "        {response}\n",
        "\n",
        "        Note: Do not include any explanations or apologies in your responses. Do not say I don't know the answer.\n",
        "        Parse the query and the graph db response, and return a human readable response.\n",
        "        \"\"\"\n",
        "\n",
        "        result = self.qa_chain(\n",
        "            {\"question\": inputs['query'], \"context\": context}\n",
        "        )\n",
        "        return {'result': result[self.qa_chain.output_key]}\n",
        "\n",
        "    def log(self, run_manager, text):\n",
        "        _run_manager = run_manager or CallbackManagerForChainRun.get_noop_manager()\n",
        "        _run_manager.on_text(\n",
        "            text, color=\"green\", end=\"\\n\", verbose=self.verbose\n",
        "        )\n",
        "\n",
        "chain = CustomGraphCypherQAChain.from_llm(\n",
        "    ChatOpenAI(model=\"gpt-4o\", temperature=0.5),\n",
        "    graph=graph,\n",
        "    verbose=True,\n",
        "    return_direct=True\n",
        ")\n",
        "\n",
        "def run(question):\n",
        "  hydrated_question = f\"\"\"\n",
        "  Generate \n",
        "  {question}\n",
        "\n",
        "  Instructions:\n",
        "  The cypher query RETURN statement should contain all the relevant nodes and relationships in the result like store ID, country, categorgy, product and other.\n",
        "  \"\"\"\n",
        "  graph_result = chain.run(hydrated_question)\n",
        "  print(graph_result)\n"
      ]
    },
    {
      "cell_type": "code",
      "execution_count": 5,
      "metadata": {
        "colab": {
          "base_uri": "https://localhost:8080/"
        },
        "id": "dLZ63aUHVbNN",
        "outputId": "1feeee8d-c8f8-4786-bef1-13094e9c95d2"
      },
      "outputs": [
        {
          "name": "stderr",
          "output_type": "stream",
          "text": [
            "/opt/homebrew/lib/python3.11/site-packages/langchain_core/_api/deprecation.py:119: LangChainDeprecationWarning: The method `Chain.run` was deprecated in langchain 0.1.0 and will be removed in 0.3.0. Use invoke instead.\n",
            "  warn_deprecated(\n"
          ]
        },
        {
          "name": "stdout",
          "output_type": "stream",
          "text": [
            "\n",
            "\n",
            "\u001b[1m> Entering new CustomGraphCypherQAChain chain...\u001b[0m\n",
            "Generated Cypher:\n",
            "\u001b[32;1m\u001b[1;3mcypher\n",
            "MATCH (c:Country)\n",
            "RETURN c.name\n",
            "\u001b[0m\n",
            "\u001b[32;1m\u001b[1;3mDb response\n",
            "{'result': [{'c.name': 'Spain'}, {'c.name': 'Germany'}, {'c.name': 'UK'}, {'c.name': 'Italy'}, {'c.name': 'France'}]}\u001b[0m\n"
          ]
        },
        {
          "name": "stderr",
          "output_type": "stream",
          "text": [
            "/opt/homebrew/lib/python3.11/site-packages/langchain_core/_api/deprecation.py:119: LangChainDeprecationWarning: The method `Chain.__call__` was deprecated in langchain 0.1.0 and will be removed in 0.3.0. Use invoke instead.\n",
            "  warn_deprecated(\n"
          ]
        },
        {
          "name": "stdout",
          "output_type": "stream",
          "text": [
            "\n",
            "\u001b[1m> Finished chain.\u001b[0m\n"
          ]
        },
        {
          "data": {
            "text/plain": [
              "'Spain, Germany, UK, Italy, France'"
            ]
          },
          "execution_count": 5,
          "metadata": {},
          "output_type": "execute_result"
        }
      ],
      "source": [
        "chain.run(\"Get me all the countries available\")"
      ]
    },
    {
      "cell_type": "code",
      "execution_count": 13,
      "metadata": {
        "colab": {
          "base_uri": "https://localhost:8080/",
          "height": 285
        },
        "id": "KVwDoN3QVf46",
        "outputId": "0893f8d4-c394-487b-cc4e-caeed0614ca8"
      },
      "outputs": [
        {
          "name": "stdout",
          "output_type": "stream",
          "text": [
            "\n",
            "\n",
            "\u001b[1m> Entering new CustomGraphCypherQAChain chain...\u001b[0m\n",
            "Generated Cypher:\n",
            "\u001b[32;1m\u001b[1;3mcypher\n",
            "MATCH (s:Store {id: 2377, country: \"UK\"})-[:SOLD]->(sale:Sale)\n",
            "RETURN MAX(sale.unitsSold) AS highestUnitsSold\n",
            "\u001b[0m\n",
            "\u001b[32;1m\u001b[1;3mDb response\n",
            "{'result': [{'highestUnitsSold': 10}]}\u001b[0m\n",
            "\n",
            "\u001b[1m> Finished chain.\u001b[0m\n"
          ]
        },
        {
          "data": {
            "text/plain": [
              "'The highest number of units sold is 10.'"
            ]
          },
          "execution_count": 13,
          "metadata": {},
          "output_type": "execute_result"
        }
      ],
      "source": [
        "chain.run(\"Get me the highest number of units sold in UK country for store 2377\")"
      ]
    },
    {
      "cell_type": "code",
      "execution_count": 17,
      "metadata": {},
      "outputs": [
        {
          "name": "stdout",
          "output_type": "stream",
          "text": [
            "\n",
            "\n",
            "\u001b[1m> Entering new CustomGraphCypherQAChain chain...\u001b[0m\n",
            "Generated Cypher:\n",
            "\u001b[32;1m\u001b[1;3mcypher\n",
            "MATCH (s:Store)-[:LOCATED_IN]->(c:Country {name: 'Germany'})\n",
            "RETURN s.id\n",
            "\u001b[0m\n",
            "\u001b[32;1m\u001b[1;3mDb response\n",
            "{'result': [{'s.id': 8036}, {'s.id': 3062}, {'s.id': 2912}, {'s.id': 2037}, {'s.id': 2377}, {'s.id': 7423}, {'s.id': 4091}, {'s.id': 5275}, {'s.id': 8942}, {'s.id': 4137}]}\u001b[0m\n",
            "\n",
            "\u001b[1m> Finished chain.\u001b[0m\n"
          ]
        },
        {
          "data": {
            "text/plain": [
              "'8036, 3062, 2912, 2037, 2377, 7423, 4091, 5275, 8942, 4137'"
            ]
          },
          "execution_count": 17,
          "metadata": {},
          "output_type": "execute_result"
        }
      ],
      "source": [
        "chain.run(\"Get me all the store ids in Germany\")"
      ]
    }
  ],
  "metadata": {
    "colab": {
      "provenance": []
    },
    "kernelspec": {
      "display_name": "Python 3 (ipykernel)",
      "language": "python",
      "name": "python3"
    },
    "language_info": {
      "codemirror_mode": {
        "name": "ipython",
        "version": 3
      },
      "file_extension": ".py",
      "mimetype": "text/x-python",
      "name": "python",
      "nbconvert_exporter": "python",
      "pygments_lexer": "ipython3",
      "version": "3.11.8"
    },
    "widgets": {
      "application/vnd.jupyter.widget-state+json": {
        "a7787eebd9954b8bba992db96b632af9": {
          "model_module": "yfiles-jupyter-graphs",
          "model_module_version": "^1.7.1",
          "model_name": "GraphModel",
          "state": {
            "_context_pane_mapping": [
              {
                "id": "Neighborhood",
                "title": "Neighborhood"
              },
              {
                "id": "Data",
                "title": "Data"
              },
              {
                "id": "Search",
                "title": "Search"
              },
              {
                "id": "About",
                "title": "About"
              }
            ],
            "_data_importer": "neo4j",
            "_directed": true,
            "_dom_classes": [],
            "_edges": [
              {
                "color": "#673AB7",
                "directed": true,
                "end": 15196,
                "id": 1152922604118492000,
                "label": "CONTAINS",
                "properties": {
                  "label": "CONTAINS"
                },
                "start": 17234,
                "thickness_factor": 1
              },
              {
                "color": "#673AB7",
                "directed": true,
                "end": 17029,
                "id": 1157426203745862400,
                "label": "CONTAINS",
                "properties": {
                  "label": "CONTAINS"
                },
                "start": 17234,
                "thickness_factor": 1
              },
              {
                "color": "#673AB7",
                "directed": true,
                "end": 17034,
                "id": 1155174403932177200,
                "label": "CONTAINS",
                "properties": {
                  "label": "CONTAINS"
                },
                "start": 17234,
                "thickness_factor": 1
              },
              {
                "color": "#673AB7",
                "directed": true,
                "end": 15197,
                "id": 1152922604118492000,
                "label": "CONTAINS",
                "properties": {
                  "label": "CONTAINS"
                },
                "start": 17235,
                "thickness_factor": 1
              },
              {
                "color": "#673AB7",
                "directed": true,
                "end": 17029,
                "id": 1157426203745862400,
                "label": "CONTAINS",
                "properties": {
                  "label": "CONTAINS"
                },
                "start": 17235,
                "thickness_factor": 1
              },
              {
                "color": "#673AB7",
                "directed": true,
                "end": 17035,
                "id": 1155174403932177200,
                "label": "CONTAINS",
                "properties": {
                  "label": "CONTAINS"
                },
                "start": 17235,
                "thickness_factor": 1
              },
              {
                "color": "#673AB7",
                "directed": true,
                "end": 15198,
                "id": 1152922604118492000,
                "label": "CONTAINS",
                "properties": {
                  "label": "CONTAINS"
                },
                "start": 17236,
                "thickness_factor": 1
              },
              {
                "color": "#673AB7",
                "directed": true,
                "end": 17030,
                "id": 1157426203745862400,
                "label": "CONTAINS",
                "properties": {
                  "label": "CONTAINS"
                },
                "start": 17236,
                "thickness_factor": 1
              },
              {
                "color": "#673AB7",
                "directed": true,
                "end": 17036,
                "id": 1155174403932177200,
                "label": "CONTAINS",
                "properties": {
                  "label": "CONTAINS"
                },
                "start": 17236,
                "thickness_factor": 1
              },
              {
                "color": "#673AB7",
                "directed": true,
                "end": 15199,
                "id": 1152922604118492000,
                "label": "CONTAINS",
                "properties": {
                  "label": "CONTAINS"
                },
                "start": 17237,
                "thickness_factor": 1
              },
              {
                "color": "#673AB7",
                "directed": true,
                "end": 17029,
                "id": 1157426203745862400,
                "label": "CONTAINS",
                "properties": {
                  "label": "CONTAINS"
                },
                "start": 17237,
                "thickness_factor": 1
              },
              {
                "color": "#673AB7",
                "directed": true,
                "end": 17037,
                "id": 1155174403932177200,
                "label": "CONTAINS",
                "properties": {
                  "label": "CONTAINS"
                },
                "start": 17237,
                "thickness_factor": 1
              },
              {
                "color": "#673AB7",
                "directed": true,
                "end": 15200,
                "id": 1152922604118492000,
                "label": "CONTAINS",
                "properties": {
                  "label": "CONTAINS"
                },
                "start": 17238,
                "thickness_factor": 1
              },
              {
                "color": "#673AB7",
                "directed": true,
                "end": 17031,
                "id": 1157426203745862400,
                "label": "CONTAINS",
                "properties": {
                  "label": "CONTAINS"
                },
                "start": 17238,
                "thickness_factor": 1
              },
              {
                "color": "#673AB7",
                "directed": true,
                "end": 17038,
                "id": 1155174403932177200,
                "label": "CONTAINS",
                "properties": {
                  "label": "CONTAINS"
                },
                "start": 17238,
                "thickness_factor": 1
              },
              {
                "color": "#673AB7",
                "directed": true,
                "end": 15201,
                "id": 1152922604118492000,
                "label": "CONTAINS",
                "properties": {
                  "label": "CONTAINS"
                },
                "start": 17239,
                "thickness_factor": 1
              },
              {
                "color": "#673AB7",
                "directed": true,
                "end": 17032,
                "id": 1157426203745862400,
                "label": "CONTAINS",
                "properties": {
                  "label": "CONTAINS"
                },
                "start": 17239,
                "thickness_factor": 1
              },
              {
                "color": "#673AB7",
                "directed": true,
                "end": 17039,
                "id": 1155174403932177200,
                "label": "CONTAINS",
                "properties": {
                  "label": "CONTAINS"
                },
                "start": 17239,
                "thickness_factor": 1
              },
              {
                "color": "#673AB7",
                "directed": true,
                "end": 15202,
                "id": 1152922604118492000,
                "label": "CONTAINS",
                "properties": {
                  "label": "CONTAINS"
                },
                "start": 17240,
                "thickness_factor": 1
              },
              {
                "color": "#673AB7",
                "directed": true,
                "end": 17029,
                "id": 1157426203745862400,
                "label": "CONTAINS",
                "properties": {
                  "label": "CONTAINS"
                },
                "start": 17240,
                "thickness_factor": 1
              },
              {
                "color": "#673AB7",
                "directed": true,
                "end": 17040,
                "id": 1155174403932177200,
                "label": "CONTAINS",
                "properties": {
                  "label": "CONTAINS"
                },
                "start": 17240,
                "thickness_factor": 1
              },
              {
                "color": "#673AB7",
                "directed": true,
                "end": 15203,
                "id": 1152922604118492000,
                "label": "CONTAINS",
                "properties": {
                  "label": "CONTAINS"
                },
                "start": 17241,
                "thickness_factor": 1
              },
              {
                "color": "#673AB7",
                "directed": true,
                "end": 17030,
                "id": 1157426203745862400,
                "label": "CONTAINS",
                "properties": {
                  "label": "CONTAINS"
                },
                "start": 17241,
                "thickness_factor": 1
              },
              {
                "color": "#673AB7",
                "directed": true,
                "end": 17041,
                "id": 1155174403932177200,
                "label": "CONTAINS",
                "properties": {
                  "label": "CONTAINS"
                },
                "start": 17241,
                "thickness_factor": 1
              },
              {
                "color": "#673AB7",
                "directed": true,
                "end": 15204,
                "id": 1152922604118492000,
                "label": "CONTAINS",
                "properties": {
                  "label": "CONTAINS"
                },
                "start": 17242,
                "thickness_factor": 1
              }
            ],
            "_graph_layout": {},
            "_highlight": [],
            "_license": {},
            "_model_module": "yfiles-jupyter-graphs",
            "_model_module_version": "^1.7.1",
            "_model_name": "GraphModel",
            "_neighborhood": {},
            "_nodes": [
              {
                "color": "#2196F3",
                "id": 17234,
                "label": "17234",
                "position": [
                  0,
                  0
                ],
                "properties": {
                  "Country": "Spain",
                  "Date of Sale": "2024-01-23T18:30:00.000000",
                  "GDP Growth Rate": 7.07,
                  "ID": 1,
                  "Inflation Rate": 0.17,
                  "Price Sold": 50.1,
                  "Product Category": "Mens",
                  "Product ID": 18702,
                  "Store ID": 8036,
                  "Units Sold": 2,
                  "label": "Kellys"
                },
                "scale_factor": 1,
                "size": [
                  55,
                  55
                ],
                "styles": {},
                "type": "#2196F3"
              },
              {
                "color": "#4CAF50",
                "id": 15196,
                "label": "15196",
                "position": [
                  0,
                  0
                ],
                "properties": {
                  "Product Category": "Mens",
                  "Product ID": "18702",
                  "label": "Product"
                },
                "scale_factor": 1,
                "size": [
                  55,
                  55
                ],
                "styles": {},
                "type": "#4CAF50"
              },
              {
                "color": "#F44336",
                "id": 17029,
                "label": "17029",
                "position": [
                  0,
                  0
                ],
                "properties": {
                  "Country": "Spain",
                  "label": "Country"
                },
                "scale_factor": 1,
                "size": [
                  55,
                  55
                ],
                "styles": {},
                "type": "#F44336"
              },
              {
                "color": "#607D8B",
                "id": 17034,
                "label": "17034",
                "position": [
                  0,
                  0
                ],
                "properties": {
                  "Country": "UK",
                  "StoreId": "8036",
                  "label": "Store"
                },
                "scale_factor": 1,
                "size": [
                  55,
                  55
                ],
                "styles": {},
                "type": "#607D8B"
              },
              {
                "color": "#2196F3",
                "id": 17235,
                "label": "17235",
                "position": [
                  0,
                  0
                ],
                "properties": {
                  "Country": "Spain",
                  "Date of Sale": "2023-11-11T18:30:00.000000",
                  "GDP Growth Rate": 4,
                  "ID": 2,
                  "Inflation Rate": 3.31,
                  "Price Sold": 61.74,
                  "Product Category": "Womens",
                  "Product ID": 45156,
                  "Store ID": 3062,
                  "Units Sold": 9,
                  "label": "Kellys"
                },
                "scale_factor": 1,
                "size": [
                  55,
                  55
                ],
                "styles": {},
                "type": "#2196F3"
              },
              {
                "color": "#4CAF50",
                "id": 15197,
                "label": "15197",
                "position": [
                  0,
                  0
                ],
                "properties": {
                  "Product Category": "Womens",
                  "Product ID": "45156",
                  "label": "Product"
                },
                "scale_factor": 1,
                "size": [
                  55,
                  55
                ],
                "styles": {},
                "type": "#4CAF50"
              },
              {
                "color": "#607D8B",
                "id": 17035,
                "label": "17035",
                "position": [
                  0,
                  0
                ],
                "properties": {
                  "Country": "UK",
                  "StoreId": "3062",
                  "label": "Store"
                },
                "scale_factor": 1,
                "size": [
                  55,
                  55
                ],
                "styles": {},
                "type": "#607D8B"
              },
              {
                "color": "#2196F3",
                "id": 17236,
                "label": "17236",
                "position": [
                  0,
                  0
                ],
                "properties": {
                  "Country": "Germany",
                  "Date of Sale": "2023-09-28T18:30:00.000000",
                  "GDP Growth Rate": 1.13,
                  "ID": 3,
                  "Inflation Rate": -1.32,
                  "Price Sold": 59.62,
                  "Product Category": "Mens",
                  "Product ID": 87467,
                  "Store ID": 2912,
                  "Units Sold": 6,
                  "label": "Kellys"
                },
                "scale_factor": 1,
                "size": [
                  55,
                  55
                ],
                "styles": {},
                "type": "#2196F3"
              },
              {
                "color": "#4CAF50",
                "id": 15198,
                "label": "15198",
                "position": [
                  0,
                  0
                ],
                "properties": {
                  "Product Category": "Mens",
                  "Product ID": "87467",
                  "label": "Product"
                },
                "scale_factor": 1,
                "size": [
                  55,
                  55
                ],
                "styles": {},
                "type": "#4CAF50"
              },
              {
                "color": "#F44336",
                "id": 17030,
                "label": "17030",
                "position": [
                  0,
                  0
                ],
                "properties": {
                  "Country": "Germany",
                  "label": "Country"
                },
                "scale_factor": 1,
                "size": [
                  55,
                  55
                ],
                "styles": {},
                "type": "#F44336"
              },
              {
                "color": "#607D8B",
                "id": 17036,
                "label": "17036",
                "position": [
                  0,
                  0
                ],
                "properties": {
                  "Country": "Spain",
                  "StoreId": "2912",
                  "label": "Store"
                },
                "scale_factor": 1,
                "size": [
                  55,
                  55
                ],
                "styles": {},
                "type": "#607D8B"
              },
              {
                "color": "#2196F3",
                "id": 17237,
                "label": "17237",
                "position": [
                  0,
                  0
                ],
                "properties": {
                  "Country": "Spain",
                  "Date of Sale": "2023-10-16T18:30:00.000000",
                  "GDP Growth Rate": 4.13,
                  "ID": 4,
                  "Inflation Rate": -1.42,
                  "Price Sold": 21.09,
                  "Product Category": "Womens",
                  "Product ID": 90575,
                  "Store ID": 2037,
                  "Units Sold": 6,
                  "label": "Kellys"
                },
                "scale_factor": 1,
                "size": [
                  55,
                  55
                ],
                "styles": {},
                "type": "#2196F3"
              },
              {
                "color": "#4CAF50",
                "id": 15199,
                "label": "15199",
                "position": [
                  0,
                  0
                ],
                "properties": {
                  "Product Category": "Womens",
                  "Product ID": "90575",
                  "label": "Product"
                },
                "scale_factor": 1,
                "size": [
                  55,
                  55
                ],
                "styles": {},
                "type": "#4CAF50"
              },
              {
                "color": "#607D8B",
                "id": 17037,
                "label": "17037",
                "position": [
                  0,
                  0
                ],
                "properties": {
                  "Country": "France",
                  "StoreId": "2037",
                  "label": "Store"
                },
                "scale_factor": 1,
                "size": [
                  55,
                  55
                ],
                "styles": {},
                "type": "#607D8B"
              },
              {
                "color": "#2196F3",
                "id": 17238,
                "label": "17238",
                "position": [
                  0,
                  0
                ],
                "properties": {
                  "Country": "UK",
                  "Date of Sale": "2024-02-07T18:30:00.000000",
                  "GDP Growth Rate": 5.2,
                  "ID": 5,
                  "Inflation Rate": 6.18,
                  "Price Sold": 28.7,
                  "Product Category": "Mens",
                  "Product ID": 64318,
                  "Store ID": 2377,
                  "Units Sold": 4,
                  "label": "Kellys"
                },
                "scale_factor": 1,
                "size": [
                  55,
                  55
                ],
                "styles": {},
                "type": "#2196F3"
              },
              {
                "color": "#4CAF50",
                "id": 15200,
                "label": "15200",
                "position": [
                  0,
                  0
                ],
                "properties": {
                  "Product Category": "Mens",
                  "Product ID": "64318",
                  "label": "Product"
                },
                "scale_factor": 1,
                "size": [
                  55,
                  55
                ],
                "styles": {},
                "type": "#4CAF50"
              },
              {
                "color": "#F44336",
                "id": 17031,
                "label": "17031",
                "position": [
                  0,
                  0
                ],
                "properties": {
                  "Country": "UK",
                  "label": "Country"
                },
                "scale_factor": 1,
                "size": [
                  55,
                  55
                ],
                "styles": {},
                "type": "#F44336"
              },
              {
                "color": "#607D8B",
                "id": 17038,
                "label": "17038",
                "position": [
                  0,
                  0
                ],
                "properties": {
                  "Country": "France",
                  "StoreId": "2377",
                  "label": "Store"
                },
                "scale_factor": 1,
                "size": [
                  55,
                  55
                ],
                "styles": {},
                "type": "#607D8B"
              },
              {
                "color": "#2196F3",
                "id": 17239,
                "label": "17239",
                "position": [
                  0,
                  0
                ],
                "properties": {
                  "Country": "Italy",
                  "Date of Sale": "2023-07-26T18:30:00.000000",
                  "GDP Growth Rate": -1.41,
                  "ID": 6,
                  "Inflation Rate": 5.39,
                  "Price Sold": 27.49,
                  "Product Category": "Womens",
                  "Product ID": 63577,
                  "Store ID": 7423,
                  "Units Sold": 10,
                  "label": "Kellys"
                },
                "scale_factor": 1,
                "size": [
                  55,
                  55
                ],
                "styles": {},
                "type": "#2196F3"
              },
              {
                "color": "#4CAF50",
                "id": 15201,
                "label": "15201",
                "position": [
                  0,
                  0
                ],
                "properties": {
                  "Product Category": "Womens",
                  "Product ID": "63577",
                  "label": "Product"
                },
                "scale_factor": 1,
                "size": [
                  55,
                  55
                ],
                "styles": {},
                "type": "#4CAF50"
              },
              {
                "color": "#F44336",
                "id": 17032,
                "label": "17032",
                "position": [
                  0,
                  0
                ],
                "properties": {
                  "Country": "Italy",
                  "label": "Country"
                },
                "scale_factor": 1,
                "size": [
                  55,
                  55
                ],
                "styles": {},
                "type": "#F44336"
              },
              {
                "color": "#607D8B",
                "id": 17039,
                "label": "17039",
                "position": [
                  0,
                  0
                ],
                "properties": {
                  "Country": "UK",
                  "StoreId": "7423",
                  "label": "Store"
                },
                "scale_factor": 1,
                "size": [
                  55,
                  55
                ],
                "styles": {},
                "type": "#607D8B"
              },
              {
                "color": "#2196F3",
                "id": 17240,
                "label": "17240",
                "position": [
                  0,
                  0
                ],
                "properties": {
                  "Country": "Spain",
                  "Date of Sale": "2023-05-31T18:30:00.000000",
                  "GDP Growth Rate": 1.8,
                  "ID": 7,
                  "Inflation Rate": 8.6,
                  "Price Sold": 19.99,
                  "Product Category": "Mens",
                  "Product ID": 17207,
                  "Store ID": 4091,
                  "Units Sold": 7,
                  "label": "Kellys"
                },
                "scale_factor": 1,
                "size": [
                  55,
                  55
                ],
                "styles": {},
                "type": "#2196F3"
              },
              {
                "color": "#4CAF50",
                "id": 15202,
                "label": "15202",
                "position": [
                  0,
                  0
                ],
                "properties": {
                  "Product Category": "Mens",
                  "Product ID": "17207",
                  "label": "Product"
                },
                "scale_factor": 1,
                "size": [
                  55,
                  55
                ],
                "styles": {},
                "type": "#4CAF50"
              },
              {
                "color": "#607D8B",
                "id": 17040,
                "label": "17040",
                "position": [
                  0,
                  0
                ],
                "properties": {
                  "Country": "Germany",
                  "StoreId": "4091",
                  "label": "Store"
                },
                "scale_factor": 1,
                "size": [
                  55,
                  55
                ],
                "styles": {},
                "type": "#607D8B"
              },
              {
                "color": "#2196F3",
                "id": 17241,
                "label": "17241",
                "position": [
                  0,
                  0
                ],
                "properties": {
                  "Country": "Germany",
                  "Date of Sale": "2024-01-03T18:30:00.000000",
                  "GDP Growth Rate": -3.9,
                  "ID": 8,
                  "Inflation Rate": 8.01,
                  "Price Sold": 84.39,
                  "Product Category": "Womens",
                  "Product ID": 92758,
                  "Store ID": 5275,
                  "Units Sold": 1,
                  "label": "Kellys"
                },
                "scale_factor": 1,
                "size": [
                  55,
                  55
                ],
                "styles": {},
                "type": "#2196F3"
              },
              {
                "color": "#4CAF50",
                "id": 15203,
                "label": "15203",
                "position": [
                  0,
                  0
                ],
                "properties": {
                  "Product Category": "Womens",
                  "Product ID": "92758",
                  "label": "Product"
                },
                "scale_factor": 1,
                "size": [
                  55,
                  55
                ],
                "styles": {},
                "type": "#4CAF50"
              },
              {
                "color": "#607D8B",
                "id": 17041,
                "label": "17041",
                "position": [
                  0,
                  0
                ],
                "properties": {
                  "Country": "France",
                  "StoreId": "5275",
                  "label": "Store"
                },
                "scale_factor": 1,
                "size": [
                  55,
                  55
                ],
                "styles": {},
                "type": "#607D8B"
              },
              {
                "color": "#2196F3",
                "id": 17242,
                "label": "17242",
                "position": [
                  0,
                  0
                ],
                "properties": {
                  "Country": "Germany",
                  "Date of Sale": "2023-05-30T18:30:00.000000",
                  "GDP Growth Rate": -2.72,
                  "ID": 9,
                  "Inflation Rate": -2.18,
                  "Price Sold": 35.51,
                  "Product Category": "Mens",
                  "Product ID": 11604,
                  "Store ID": 8942,
                  "Units Sold": 4,
                  "label": "Kellys"
                },
                "scale_factor": 1,
                "size": [
                  55,
                  55
                ],
                "styles": {},
                "type": "#2196F3"
              },
              {
                "color": "#4CAF50",
                "id": 15204,
                "label": "15204",
                "position": [
                  0,
                  0
                ],
                "properties": {
                  "Product Category": "Mens",
                  "Product ID": "11604",
                  "label": "Product"
                },
                "scale_factor": 1,
                "size": [
                  55,
                  55
                ],
                "styles": {},
                "type": "#4CAF50"
              }
            ],
            "_overview": {
              "enabled": null,
              "overview_set": false
            },
            "_selected_graph": [
              [],
              []
            ],
            "_sidebar": {
              "enabled": true,
              "start_with": ""
            },
            "_view_count": null,
            "_view_module": "yfiles-jupyter-graphs",
            "_view_module_version": "^1.7.1",
            "_view_name": "GraphView",
            "layout": "IPY_MODEL_b5eb1cd4a318471f89daef1635ba62c5",
            "tabbable": null,
            "tooltip": null
          }
        },
        "b5eb1cd4a318471f89daef1635ba62c5": {
          "model_module": "@jupyter-widgets/base",
          "model_module_version": "2.0.0",
          "model_name": "LayoutModel",
          "state": {
            "_model_module": "@jupyter-widgets/base",
            "_model_module_version": "2.0.0",
            "_model_name": "LayoutModel",
            "_view_count": null,
            "_view_module": "@jupyter-widgets/base",
            "_view_module_version": "2.0.0",
            "_view_name": "LayoutView",
            "align_content": null,
            "align_items": null,
            "align_self": null,
            "border_bottom": null,
            "border_left": null,
            "border_right": null,
            "border_top": null,
            "bottom": null,
            "display": null,
            "flex": null,
            "flex_flow": null,
            "grid_area": null,
            "grid_auto_columns": null,
            "grid_auto_flow": null,
            "grid_auto_rows": null,
            "grid_column": null,
            "grid_gap": null,
            "grid_row": null,
            "grid_template_areas": null,
            "grid_template_columns": null,
            "grid_template_rows": null,
            "height": "800px",
            "justify_content": null,
            "justify_items": null,
            "left": null,
            "margin": null,
            "max_height": null,
            "max_width": null,
            "min_height": null,
            "min_width": null,
            "object_fit": null,
            "object_position": null,
            "order": null,
            "overflow": null,
            "padding": null,
            "right": null,
            "top": null,
            "visibility": null,
            "width": "100%"
          }
        }
      }
    }
  },
  "nbformat": 4,
  "nbformat_minor": 0
}
